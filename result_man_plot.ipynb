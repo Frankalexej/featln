{
 "cells": [
  {
   "cell_type": "code",
   "execution_count": 23,
   "metadata": {},
   "outputs": [],
   "source": [
    "import pandas as pd\n",
    "import numpy as np\n",
    "import os\n",
    "import matplotlib.pyplot as plt\n",
    "import plotly.express as px\n",
    "from scipy.spatial.distance import cdist\n",
    "from scipy.stats import ttest_ind\n",
    "from scipy import stats\n",
    "\n",
    "from paths import *\n",
    "from ssd_paths import *"
   ]
  },
  {
   "cell_type": "markdown",
   "metadata": {},
   "source": [
    "## Local path define"
   ]
  },
  {
   "cell_type": "code",
   "execution_count": 3,
   "metadata": {},
   "outputs": [],
   "source": [
    "mapper_path = ssd_src_path + \"mapper/mandarin_to_feats.xlsx\"\n",
    "# rec_name = \"dim-3-1130161723\"\n",
    "# rec_name = \"dim-3-1130205041\"\n",
    "# rec_name = \"dim-3-1130222703\"\n",
    "rec_name = \"dim-3-1130225525\"\n",
    "result_dir = root_path + \"results/man/\" + f\"{rec_name}/\"\n",
    "mk(result_dir)\n",
    "\n",
    "model_save_dir = model_man_save_dir + f\"{rec_name}/\""
   ]
  },
  {
   "cell_type": "markdown",
   "metadata": {},
   "source": [
    "## Define util functions"
   ]
  },
  {
   "cell_type": "code",
   "execution_count": 4,
   "metadata": {},
   "outputs": [],
   "source": [
    "def get_data_pair(selected_guide, hiddens): \n",
    "    return hiddens[selected_guide.index.tolist()], selected_guide[\"covertag\"].tolist()\n",
    "\n",
    "def get_random_samples(guide, to_choose_tag, cover_tag, max_samples=500): \n",
    "    selected_guide = guide[guide[\"tag\"] == to_choose_tag]\n",
    "    count = len(selected_guide)\n",
    "    if len(selected_guide) > max_samples: \n",
    "        selected_guide = selected_guide.sample(max_samples)\n",
    "        count = max_samples\n",
    "    selected_guide[\"covertag\"] = cover_tag\n",
    "    return selected_guide, count\n",
    "\n",
    "def combine_guide(guides): \n",
    "    return pd.concat(guides)\n",
    "\n",
    "def plot3dGroup(guide):\n",
    "    config = {\n",
    "    'toImageButtonOptions': {\n",
    "        'format': 'png', # one of png, svg, jpeg, webp\n",
    "        'filename': 'custom_image',\n",
    "        'height': 1280,\n",
    "        'width': 1280,\n",
    "        'scale': 1 # Multiply title/legend/axis/canvas sizes by this factor\n",
    "    }\n",
    "    }\n",
    "    fig = px.scatter_3d(guide, x=\"norm_0\", y=\"norm_1\", z=\"norm_2\",\n",
    "                color='tag')\n",
    "    fig.update_traces(marker=dict(size=2),\n",
    "                    selector=dict(mode='markers'))\n",
    "    fig.update_layout(\n",
    "        scene = dict(\n",
    "            xaxis = dict(nticks=8, range=[-1,1],),\n",
    "                        yaxis = dict(nticks=8, range=[-1,1],),\n",
    "                        zaxis = dict(nticks=8, range=[-1,1],),),)\n",
    "    fig.update_layout(legend= {'itemsizing': 'constant'})\n",
    "    fig.update_layout(legend_title_text='Class')\n",
    "    fig.update_layout(\n",
    "        legend=dict(\n",
    "            x=0,\n",
    "            y=1,\n",
    "            title_font_family=\"Times New Roman\",\n",
    "            font=dict(\n",
    "                family=\"Times New Roman\",\n",
    "                size=36,\n",
    "                color=\"black\"\n",
    "            ),\n",
    "            # bgcolor=\"LightSteelBlue\",\n",
    "            bordercolor=\"Black\",\n",
    "            borderwidth=1\n",
    "        )\n",
    "    )\n",
    "    fig.update_layout(\n",
    "        margin=dict(l=0, r=0, t=0, b=0),\n",
    "    )\n",
    "    camera = dict(\n",
    "        eye=dict(x=0., y=0., z=2.5)\n",
    "    )\n",
    "    fig.update_layout(scene_camera=camera)\n",
    "    html_plot = fig.to_html(full_html=False, config=config)\n",
    "    # fig.show(config=config)\n",
    "    return html_plot\n",
    "\n",
    "def minmax(val, themin, themax, a=-1, b=1):\n",
    "    return (b - a) * ((val - themin) / (themax - themin)) + a"
   ]
  },
  {
   "cell_type": "markdown",
   "metadata": {},
   "source": [
    "## Load data"
   ]
  },
  {
   "cell_type": "code",
   "execution_count": 5,
   "metadata": {},
   "outputs": [],
   "source": [
    "heim_hiddens = np.load(os.path.join(model_save_dir, \"heim_hiddens.npy\"))\n",
    "heim_df = pd.read_csv(os.path.join(model_save_dir, \"heim_encodes.csv\"))"
   ]
  },
  {
   "cell_type": "code",
   "execution_count": 6,
   "metadata": {},
   "outputs": [
    {
     "data": {
      "text/plain": [
       "array(['iang', 'z', 'ii', 'l', 'ian', 'x', 'v', 'j', 'iou', 'sh', 'en',\n",
       "       'm', 'e', 'n', 'k', 'r', 'ei', 'd', 'ou', 'i', 'g', 'an', 'zh',\n",
       "       'iii', 'uo', 'u', 'b', 'a', 't', 'ang', 'ch', 'eng', 'ui', 'ai',\n",
       "       'ao', 'ie', 'uang', 'ing', 's', 'rr', 'iao', 'f', 'p', 'q', 've',\n",
       "       'uan', 'h', 'in', 'un', 'ong', 'ia', 'van', 'c', 'ua', 'iong',\n",
       "       'uai', 'vn', 'o'], dtype=object)"
      ]
     },
     "execution_count": 6,
     "metadata": {},
     "output_type": "execute_result"
    }
   ],
   "source": [
    "heim_df[\"tag\"].unique()"
   ]
  },
  {
   "cell_type": "code",
   "execution_count": 7,
   "metadata": {},
   "outputs": [],
   "source": [
    "themin = heim_df[\"0\"].min()\n",
    "themax = heim_df[\"0\"].max()\n",
    "heim_df[\"norm_0\"] = heim_df[\"0\"].apply(lambda x: minmax(x, themin, themax))\n",
    "\n",
    "themin = heim_df[\"1\"].min()\n",
    "themax = heim_df[\"1\"].max()\n",
    "heim_df[\"norm_1\"] = heim_df[\"1\"].apply(lambda x: minmax(x, themin, themax))\n",
    "\n",
    "themin = heim_df[\"2\"].min()\n",
    "themax = heim_df[\"2\"].max()\n",
    "heim_df[\"norm_2\"] = heim_df[\"2\"].apply(lambda x: minmax(x, themin, themax))"
   ]
  },
  {
   "cell_type": "code",
   "execution_count": 48,
   "metadata": {},
   "outputs": [],
   "source": [
    "def calculate_distances(group):\n",
    "    # Calculate pairwise distances within the group\n",
    "    distances_within_group = cdist(group, group)\n",
    "\n",
    "    # Flatten the upper triangular part (excluding the diagonal) to get unique distances\n",
    "    distances_within_group = distances_within_group[np.triu_indices(distances_within_group.shape[0], k=1)]\n",
    "\n",
    "    return distances_within_group\n",
    "\n",
    "def calculate_AB_distances(group_a, group_b):\n",
    "    # Calculate distances between points in group_a and group_b\n",
    "    distances_between_groups = cdist(group_a, group_b).flatten()\n",
    "\n",
    "    return distances_between_groups\n",
    "\n",
    "def perform_t_test(distances_a, distances_b, distances_ab):\n",
    "    # Perform independent two-sample t-test\n",
    "    t_statistic, p_value = ttest_ind(distances_a, distances_b)\n",
    "\n",
    "    # Output the t-statistic and p-value\n",
    "    print(f\"T-statistic: {t_statistic}\")\n",
    "    print(f\"P-value: {p_value}\")\n",
    "\n",
    "    # Compare AB-distances to A-distances and B-distances\n",
    "    t_statistic_ab_vs_a, p_value_ab_vs_a = ttest_ind(distances_ab, distances_a)\n",
    "    t_statistic_ab_vs_b, p_value_ab_vs_b = ttest_ind(distances_ab, distances_b)\n",
    "\n",
    "    # Output the results for AB-distances vs A-distances and AB-distances vs B-distances\n",
    "    print(f\"T-statistic (AB-distances vs A-distances): {t_statistic_ab_vs_a}\")\n",
    "    print(f\"P-value (AB-distances vs A-distances): {p_value_ab_vs_a}\")\n",
    "    print(f\"T-statistic (AB-distances vs B-distances): {t_statistic_ab_vs_b}\")\n",
    "    print(f\"P-value (AB-distances vs B-distances): {p_value_ab_vs_b}\")\n",
    "\n",
    "\n",
    "def calculate_confidence_interval(data, confidence=0.95):\n",
    "    n = len(data)\n",
    "    mean = np.mean(data)\n",
    "    cis = stats.t.interval(confidence=confidence, df=n-1, loc=mean, scale=stats.sem(data))\n",
    "    return mean, mean - cis[0], cis[1] - mean\n",
    "\n",
    "def plot_mean_with_confidence_intervals(distances_a, distances_b, distances_ab):\n",
    "    means = [np.mean(distances_a), np.mean(distances_b), np.mean(distances_ab)]\n",
    "    confidence_intervals = [calculate_confidence_interval(distances_a),\n",
    "                            calculate_confidence_interval(distances_b),\n",
    "                            calculate_confidence_interval(distances_ab)]\n",
    "\n",
    "    labels = ['A-distances', 'B-distances', 'AB-distances']\n",
    "\n",
    "    plt.figure(figsize=(10, 6))\n",
    "    plt.bar(labels, means, yerr=np.array(confidence_intervals)[:, [1, 2]].T, capsize=5, color=['blue', 'orange', 'green'])\n",
    "    plt.title('Mean Distances with Confidence Intervals')\n",
    "    plt.ylabel('Mean Distance')\n",
    "    plt.show()\n",
    "\n",
    "def plot_mean_with_confidence_intervals(distances_a, distances_b):\n",
    "    means = [np.mean(distances_a), np.mean(distances_b)]\n",
    "    confidence_intervals = [calculate_confidence_interval(distances_a),\n",
    "                            calculate_confidence_interval(distances_b)]\n",
    "\n",
    "    labels = ['A-distances', 'B-distances']\n",
    "\n",
    "    print(confidence_intervals[0], confidence_intervals[1])\n",
    "\n",
    "    plt.figure(figsize=(10, 6))\n",
    "    plt.bar(labels, means, yerr=np.array(confidence_intervals)[:, [1, 2]].T, capsize=5, color=['blue', 'orange', 'green'])\n",
    "    plt.title('Mean Distances with Confidence Intervals')\n",
    "    plt.ylabel('Mean Distance')\n",
    "    plt.show()"
   ]
  },
  {
   "cell_type": "code",
   "execution_count": 49,
   "metadata": {},
   "outputs": [],
   "source": [
    "def combo_getdata(guide, hiddens, to_choose_tag, cover_tag, max_samples=500): \n",
    "    selected_guide, count = get_random_samples(guide, to_choose_tag, cover_tag, max_samples)\n",
    "    selected_hiddens, selected_tags = get_data_pair(selected_guide, hiddens)\n",
    "    return selected_hiddens"
   ]
  },
  {
   "cell_type": "code",
   "execution_count": 54,
   "metadata": {},
   "outputs": [],
   "source": [
    "def plot_haha(group1_data, group2_data): \n",
    "    # Calculate mean and confidence interval for each group\n",
    "    mean_group1 = np.mean(group1_data)\n",
    "    ci_group1 = 1.96 * np.std(group1_data) / np.sqrt(len(group1_data))\n",
    "\n",
    "    mean_group2 = np.mean(group2_data)\n",
    "    ci_group2 = 1.96 * np.std(group2_data) / np.sqrt(len(group2_data))\n",
    "\n",
    "    # Plotting\n",
    "    plt.figure(figsize=(8, 6))\n",
    "\n",
    "    plt.bar([1, 2], [mean_group1, mean_group2], yerr=[ci_group1, ci_group2], capsize=10)\n",
    "    plt.xticks([1, 2], ['Group 1', 'Group 2'])\n",
    "    plt.title('Mean and Confidence Interval for Two Groups')\n",
    "    plt.ylabel('Mean +/- 95% CI')\n",
    "\n",
    "    plt.show()"
   ]
  },
  {
   "cell_type": "code",
   "execution_count": 79,
   "metadata": {},
   "outputs": [
    {
     "name": "stdout",
     "output_type": "stream",
     "text": [
      "3.145554726748001 0.001660162897883251\n"
     ]
    },
    {
     "data": {
      "image/png": "[encoded data removed]",
      "text/plain": [
       "<Figure size 800x600 with 1 Axes>"
      ]
     },
     "metadata": {},
     "output_type": "display_data"
    }
   ],
   "source": [
    "group_a = combo_getdata(heim_df, heim_hiddens, \"d\", \"d\", max_samples=100)\n",
    "group_b = combo_getdata(heim_df, heim_hiddens, \"t\", \"t\", max_samples=100)\n",
    "\n",
    "distances_a = calculate_distances(group_a)\n",
    "distances_b = calculate_distances(group_b)\n",
    "distance_aplusb = np.concatenate((distances_a, distances_b))\n",
    "distances_ab = calculate_AB_distances(group_a, group_b)\n",
    "\n",
    "# perform_t_test(distance_aplusb, distances_ab)\n",
    "t_statistic_, p_value_ = ttest_ind(distances_ab, distance_aplusb)\n",
    "print(t_statistic_, p_value_)\n",
    "# plot_mean_with_confidence_intervals(distance_aplusb, distances_ab)\n",
    "\n",
    "plot_haha(distances_ab, distance_aplusb)"
   ]
  },
  {
   "cell_type": "code",
   "execution_count": 80,
   "metadata": {},
   "outputs": [],
   "source": [
    "def get_general_impression(tag_a, tag_b, size=100, rounds=100): \n",
    "    hit = 0\n",
    "    for i in range(rounds):\n",
    "        group_a = combo_getdata(heim_df, heim_hiddens, tag_a, tag_a, max_samples=size)\n",
    "        group_b = combo_getdata(heim_df, heim_hiddens, tag_b, tag_b, max_samples=size)\n",
    "\n",
    "        distances_a = calculate_distances(group_a)\n",
    "        distances_b = calculate_distances(group_b)\n",
    "        distance_aplusb = np.concatenate((distances_a, distances_b))\n",
    "        distances_ab = calculate_AB_distances(group_a, group_b)\n",
    "\n",
    "        # perform_t_test(distance_aplusb, distances_ab)\n",
    "        t_statistic_, p_value_ = ttest_ind(distances_ab, distance_aplusb)\n",
    "        if p_value_ < 0.05: \n",
    "            hit += 1\n",
    "    return hit / rounds"
   ]
  },
  {
   "cell_type": "code",
   "execution_count": 81,
   "metadata": {},
   "outputs": [
    {
     "data": {
      "text/plain": [
       "0.53"
      ]
     },
     "execution_count": 81,
     "metadata": {},
     "output_type": "execute_result"
    }
   ],
   "source": [
    "get_general_impression(\"d\", \"t\", size=100, rounds=100)"
   ]
  },
  {
   "cell_type": "code",
   "execution_count": 84,
   "metadata": {},
   "outputs": [
    {
     "data": {
      "text/plain": [
       "1.0"
      ]
     },
     "execution_count": 84,
     "metadata": {},
     "output_type": "execute_result"
    }
   ],
   "source": [
    "get_general_impression(\"a\", \"i\", size=100, rounds=100)"
   ]
  },
  {
   "cell_type": "code",
   "execution_count": 86,
   "metadata": {},
   "outputs": [
    {
     "data": {
      "text/plain": [
       "0.14"
      ]
     },
     "execution_count": 86,
     "metadata": {},
     "output_type": "execute_result"
    }
   ],
   "source": [
    "get_general_impression(\"p\", \"t\", size=100, rounds=100)"
   ]
  },
  {
   "cell_type": "code",
   "execution_count": 90,
   "metadata": {},
   "outputs": [
    {
     "data": {
      "text/plain": [
       "0.4"
      ]
     },
     "execution_count": 90,
     "metadata": {},
     "output_type": "execute_result"
    }
   ],
   "source": [
    "get_general_impression(\"b\", \"d\", size=100, rounds=100)"
   ]
  },
  {
   "cell_type": "code",
   "execution_count": 91,
   "metadata": {},
   "outputs": [
    {
     "data": {
      "text/plain": [
       "1.0"
      ]
     },
     "execution_count": 91,
     "metadata": {},
     "output_type": "execute_result"
    }
   ],
   "source": [
    "get_general_impression(\"u\", \"v\", size=100, rounds=100)"
   ]
  },
  {
   "cell_type": "code",
   "execution_count": 92,
   "metadata": {},
   "outputs": [
    {
     "data": {
      "text/plain": [
       "1.0"
      ]
     },
     "execution_count": 92,
     "metadata": {},
     "output_type": "execute_result"
    }
   ],
   "source": [
    "get_general_impression(\"i\", \"v\", size=100, rounds=100)"
   ]
  },
  {
   "cell_type": "code",
   "execution_count": 93,
   "metadata": {},
   "outputs": [
    {
     "data": {
      "text/plain": [
       "0.81"
      ]
     },
     "execution_count": 93,
     "metadata": {},
     "output_type": "execute_result"
    }
   ],
   "source": [
    "get_general_impression(\"m\", \"n\", size=100, rounds=100)"
   ]
  },
  {
   "cell_type": "markdown",
   "metadata": {},
   "source": [
    "## Draw vowels"
   ]
  },
  {
   "cell_type": "code",
   "execution_count": 82,
   "metadata": {},
   "outputs": [],
   "source": [
    "def proc_draw(guide, tags, max): \n",
    "    selected_guides = []\n",
    "    num_counts = []\n",
    "    for tag in tags: \n",
    "        selected_guide, count = get_random_samples(guide, tag, tag, max_samples=max)\n",
    "        selected_guides.append(selected_guide)\n",
    "        num_counts.append(count)\n",
    "\n",
    "    combined_guide = combine_guide(selected_guides)\n",
    "    outhtml = plot3dGroup(combined_guide)\n",
    "\n",
    "    filename = \"-\".join(tags)\n",
    "    outname = os.path.join(result_dir, f\"{filename}.html\")\n",
    "    with open(outname, \"w\") as f:\n",
    "        f.write('<meta charset=\"UTF-8\">')\n",
    "        f.write(\"<h3>Phones: {}</h3>\".format(\", \".join(tags)))\n",
    "        # f.write(\"<h3>IPA: {}</h3>\".format(\", \".join(these_ipas)))\n",
    "        f.write(\"<h3>Counts: {}</h3>\".format(\", \".join(map(str, num_counts))))\n",
    "        f.write(\"<hr>\")\n",
    "        # f.write(outtable)\n",
    "        f.write(\"<hr>\")\n",
    "        f.write(outhtml)"
   ]
  },
  {
   "cell_type": "code",
   "execution_count": 83,
   "metadata": {},
   "outputs": [
    {
     "name": "stderr",
     "output_type": "stream",
     "text": [
      "/tmp/ipykernel_586652/3984330027.py:10: SettingWithCopyWarning:\n",
      "\n",
      "\n",
      "A value is trying to be set on a copy of a slice from a DataFrame.\n",
      "Try using .loc[row_indexer,col_indexer] = value instead\n",
      "\n",
      "See the caveats in the documentation: https://pandas.pydata.org/pandas-docs/stable/user_guide/indexing.html#returning-a-view-versus-a-copy\n",
      "\n",
      "/tmp/ipykernel_586652/3984330027.py:10: SettingWithCopyWarning:\n",
      "\n",
      "\n",
      "A value is trying to be set on a copy of a slice from a DataFrame.\n",
      "Try using .loc[row_indexer,col_indexer] = value instead\n",
      "\n",
      "See the caveats in the documentation: https://pandas.pydata.org/pandas-docs/stable/user_guide/indexing.html#returning-a-view-versus-a-copy\n",
      "\n"
     ]
    }
   ],
   "source": [
    "proc_draw(heim_df, [\"sh\", \"r\"], 3000)"
   ]
  },
  {
   "cell_type": "code",
   "execution_count": 84,
   "metadata": {},
   "outputs": [
    {
     "name": "stderr",
     "output_type": "stream",
     "text": [
      "/tmp/ipykernel_586652/3984330027.py:10: SettingWithCopyWarning:\n",
      "\n",
      "\n",
      "A value is trying to be set on a copy of a slice from a DataFrame.\n",
      "Try using .loc[row_indexer,col_indexer] = value instead\n",
      "\n",
      "See the caveats in the documentation: https://pandas.pydata.org/pandas-docs/stable/user_guide/indexing.html#returning-a-view-versus-a-copy\n",
      "\n",
      "/tmp/ipykernel_586652/3984330027.py:10: SettingWithCopyWarning:\n",
      "\n",
      "\n",
      "A value is trying to be set on a copy of a slice from a DataFrame.\n",
      "Try using .loc[row_indexer,col_indexer] = value instead\n",
      "\n",
      "See the caveats in the documentation: https://pandas.pydata.org/pandas-docs/stable/user_guide/indexing.html#returning-a-view-versus-a-copy\n",
      "\n",
      "/tmp/ipykernel_586652/3984330027.py:10: SettingWithCopyWarning:\n",
      "\n",
      "\n",
      "A value is trying to be set on a copy of a slice from a DataFrame.\n",
      "Try using .loc[row_indexer,col_indexer] = value instead\n",
      "\n",
      "See the caveats in the documentation: https://pandas.pydata.org/pandas-docs/stable/user_guide/indexing.html#returning-a-view-versus-a-copy\n",
      "\n"
     ]
    }
   ],
   "source": [
    "proc_draw(heim_df, [\"a\", \"e\", \"i\", \"uo\", \"u\", \"v\"], 1500)"
   ]
  },
  {
   "cell_type": "code",
   "execution_count": 85,
   "metadata": {},
   "outputs": [
    {
     "name": "stderr",
     "output_type": "stream",
     "text": [
      "/tmp/ipykernel_586652/3984330027.py:10: SettingWithCopyWarning:\n",
      "\n",
      "\n",
      "A value is trying to be set on a copy of a slice from a DataFrame.\n",
      "Try using .loc[row_indexer,col_indexer] = value instead\n",
      "\n",
      "See the caveats in the documentation: https://pandas.pydata.org/pandas-docs/stable/user_guide/indexing.html#returning-a-view-versus-a-copy\n",
      "\n"
     ]
    }
   ],
   "source": [
    "proc_draw(heim_df, [\"d\", \"t\"], 3000)"
   ]
  },
  {
   "cell_type": "code",
   "execution_count": 86,
   "metadata": {},
   "outputs": [
    {
     "name": "stderr",
     "output_type": "stream",
     "text": [
      "/tmp/ipykernel_586652/3984330027.py:10: SettingWithCopyWarning:\n",
      "\n",
      "\n",
      "A value is trying to be set on a copy of a slice from a DataFrame.\n",
      "Try using .loc[row_indexer,col_indexer] = value instead\n",
      "\n",
      "See the caveats in the documentation: https://pandas.pydata.org/pandas-docs/stable/user_guide/indexing.html#returning-a-view-versus-a-copy\n",
      "\n",
      "/tmp/ipykernel_586652/3984330027.py:10: SettingWithCopyWarning:\n",
      "\n",
      "\n",
      "A value is trying to be set on a copy of a slice from a DataFrame.\n",
      "Try using .loc[row_indexer,col_indexer] = value instead\n",
      "\n",
      "See the caveats in the documentation: https://pandas.pydata.org/pandas-docs/stable/user_guide/indexing.html#returning-a-view-versus-a-copy\n",
      "\n",
      "/tmp/ipykernel_586652/3984330027.py:10: SettingWithCopyWarning:\n",
      "\n",
      "\n",
      "A value is trying to be set on a copy of a slice from a DataFrame.\n",
      "Try using .loc[row_indexer,col_indexer] = value instead\n",
      "\n",
      "See the caveats in the documentation: https://pandas.pydata.org/pandas-docs/stable/user_guide/indexing.html#returning-a-view-versus-a-copy\n",
      "\n"
     ]
    }
   ],
   "source": [
    "proc_draw(heim_df, [\"a\", \"e\", \"rr\", \"i\", \"u\", \"v\"], 1500)"
   ]
  },
  {
   "cell_type": "code",
   "execution_count": 87,
   "metadata": {},
   "outputs": [
    {
     "name": "stderr",
     "output_type": "stream",
     "text": [
      "/tmp/ipykernel_586652/3984330027.py:10: SettingWithCopyWarning:\n",
      "\n",
      "\n",
      "A value is trying to be set on a copy of a slice from a DataFrame.\n",
      "Try using .loc[row_indexer,col_indexer] = value instead\n",
      "\n",
      "See the caveats in the documentation: https://pandas.pydata.org/pandas-docs/stable/user_guide/indexing.html#returning-a-view-versus-a-copy\n",
      "\n"
     ]
    }
   ],
   "source": [
    "proc_draw(heim_df, [\"i\", \"ii\", \"iii\"], 1500)"
   ]
  },
  {
   "cell_type": "code",
   "execution_count": 88,
   "metadata": {},
   "outputs": [
    {
     "name": "stderr",
     "output_type": "stream",
     "text": [
      "/tmp/ipykernel_586652/3984330027.py:10: SettingWithCopyWarning:\n",
      "\n",
      "\n",
      "A value is trying to be set on a copy of a slice from a DataFrame.\n",
      "Try using .loc[row_indexer,col_indexer] = value instead\n",
      "\n",
      "See the caveats in the documentation: https://pandas.pydata.org/pandas-docs/stable/user_guide/indexing.html#returning-a-view-versus-a-copy\n",
      "\n",
      "/tmp/ipykernel_586652/3984330027.py:10: SettingWithCopyWarning:\n",
      "\n",
      "\n",
      "A value is trying to be set on a copy of a slice from a DataFrame.\n",
      "Try using .loc[row_indexer,col_indexer] = value instead\n",
      "\n",
      "See the caveats in the documentation: https://pandas.pydata.org/pandas-docs/stable/user_guide/indexing.html#returning-a-view-versus-a-copy\n",
      "\n",
      "/tmp/ipykernel_586652/3984330027.py:10: SettingWithCopyWarning:\n",
      "\n",
      "\n",
      "A value is trying to be set on a copy of a slice from a DataFrame.\n",
      "Try using .loc[row_indexer,col_indexer] = value instead\n",
      "\n",
      "See the caveats in the documentation: https://pandas.pydata.org/pandas-docs/stable/user_guide/indexing.html#returning-a-view-versus-a-copy\n",
      "\n"
     ]
    }
   ],
   "source": [
    "proc_draw(heim_df, [\"p\", \"t\", \"k\"], 3000)"
   ]
  },
  {
   "cell_type": "code",
   "execution_count": 89,
   "metadata": {},
   "outputs": [],
   "source": [
    "# vowels = [\"a\", \"e\", \"i\", \"uo\", \"u\", \"v\"]\n",
    "# selected_guides = []\n",
    "# num_counts = []\n",
    "# for vowel in vowels: \n",
    "#     selected_guide, count = get_random_samples(heim_df, vowel, vowel,max_samples=1000)\n",
    "#     selected_guides.append(selected_guide)\n",
    "#     num_counts.append(count)\n",
    "\n",
    "# combined_guide = combine_guide(selected_guides)\n",
    "# # selected_hiddens, selected_tags = get_data_pair(combined_guide, heim_hiddens)\n",
    "\n",
    "# outhtml = plot3dGroup(combined_guide)\n",
    "\n",
    "# outname = os.path.join(result_dir, \"vowels.html\")\n",
    "# with open(outname, \"w\") as f:\n",
    "#     f.write('<meta charset=\"UTF-8\">')\n",
    "#     # f.write(\"<h3>Phones: {}</h3>\".format(\", \".join(these)))\n",
    "#     # f.write(\"<h3>IPA: {}</h3>\".format(\", \".join(these_ipas)))\n",
    "#     # f.write(\"<h3>Counts: {}</h3>\".format(\", \".join(map(str, nums))))\n",
    "#     f.write(\"<hr>\")\n",
    "#     # f.write(outtable)\n",
    "#     f.write(\"<hr>\")\n",
    "#     f.write(outhtml)"
   ]
  },
  {
   "cell_type": "code",
   "execution_count": null,
   "metadata": {},
   "outputs": [],
   "source": []
  },
  {
   "cell_type": "code",
   "execution_count": 16,
   "metadata": {},
   "outputs": [],
   "source": []
  },
  {
   "cell_type": "code",
   "execution_count": null,
   "metadata": {},
   "outputs": [],
   "source": []
  }
 ],
 "metadata": {
  "kernelspec": {
   "display_name": "featln",
   "language": "python",
   "name": "python3"
  },
  "language_info": {
   "codemirror_mode": {
    "name": "ipython",
    "version": 3
   },
   "file_extension": ".py",
   "mimetype": "text/x-python",
   "name": "python",
   "nbconvert_exporter": "python",
   "pygments_lexer": "ipython3",
   "version": "3.11.5"
  }
 },
 "nbformat": 4,
 "nbformat_minor": 2
}

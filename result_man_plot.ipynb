{
 "cells": [
  {
   "cell_type": "code",
   "execution_count": 1,
   "metadata": {},
   "outputs": [],
   "source": [
    "import pandas as pd\n",
    "import numpy as np\n",
    "import os\n",
    "import matplotlib.pyplot as plt\n",
    "import plotly.express as px\n",
    "\n",
    "from paths import *\n",
    "from ssd_paths import *"
   ]
  },
  {
   "cell_type": "markdown",
   "metadata": {},
   "source": [
    "## Local path define"
   ]
  },
  {
   "cell_type": "code",
   "execution_count": 77,
   "metadata": {},
   "outputs": [],
   "source": [
    "mapper_path = ssd_src_path + \"mapper/mandarin_to_feats.xlsx\"\n",
    "# rec_name = \"dim-3-1130161723\"\n",
    "# rec_name = \"dim-3-1130205041\"\n",
    "# rec_name = \"dim-3-1130222703\"\n",
    "rec_name = \"dim-3-1130225525\"\n",
    "result_dir = root_path + \"results/man/\" + f\"{rec_name}/\"\n",
    "mk(result_dir)\n",
    "\n",
    "model_save_dir = model_man_save_dir + f\"{rec_name}/\""
   ]
  },
  {
   "cell_type": "markdown",
   "metadata": {},
   "source": [
    "## Define util functions"
   ]
  },
  {
   "cell_type": "code",
   "execution_count": 78,
   "metadata": {},
   "outputs": [],
   "source": [
    "def get_data_pair(selected_guide, hiddens): \n",
    "    return hiddens[selected_guide.index.tolist()], selected_guide[\"covertag\"].tolist()\n",
    "\n",
    "def get_random_samples(guide, to_choose_tag, cover_tag, max_samples=500): \n",
    "    selected_guide = guide[guide[\"tag\"] == to_choose_tag]\n",
    "    count = len(selected_guide)\n",
    "    if len(selected_guide) > max_samples: \n",
    "        selected_guide = selected_guide.sample(max_samples)\n",
    "        count = max_samples\n",
    "    selected_guide[\"covertag\"] = cover_tag\n",
    "    return selected_guide, count\n",
    "\n",
    "def combine_guide(guides): \n",
    "    return pd.concat(guides)\n",
    "\n",
    "def plot3dGroup(guide):\n",
    "    config = {\n",
    "    'toImageButtonOptions': {\n",
    "        'format': 'png', # one of png, svg, jpeg, webp\n",
    "        'filename': 'custom_image',\n",
    "        'height': 1280,\n",
    "        'width': 1280,\n",
    "        'scale': 1 # Multiply title/legend/axis/canvas sizes by this factor\n",
    "    }\n",
    "    }\n",
    "    fig = px.scatter_3d(guide, x=\"norm_0\", y=\"norm_1\", z=\"norm_2\",\n",
    "                color='tag')\n",
    "    fig.update_traces(marker=dict(size=2),\n",
    "                    selector=dict(mode='markers'))\n",
    "    fig.update_layout(\n",
    "        scene = dict(\n",
    "            xaxis = dict(nticks=8, range=[-1,1],),\n",
    "                        yaxis = dict(nticks=8, range=[-1,1],),\n",
    "                        zaxis = dict(nticks=8, range=[-1,1],),),)\n",
    "    fig.update_layout(legend= {'itemsizing': 'constant'})\n",
    "    fig.update_layout(legend_title_text='Class')\n",
    "    fig.update_layout(\n",
    "        legend=dict(\n",
    "            x=0,\n",
    "            y=1,\n",
    "            title_font_family=\"Times New Roman\",\n",
    "            font=dict(\n",
    "                family=\"Times New Roman\",\n",
    "                size=36,\n",
    "                color=\"black\"\n",
    "            ),\n",
    "            # bgcolor=\"LightSteelBlue\",\n",
    "            bordercolor=\"Black\",\n",
    "            borderwidth=1\n",
    "        )\n",
    "    )\n",
    "    fig.update_layout(\n",
    "        margin=dict(l=0, r=0, t=0, b=0),\n",
    "    )\n",
    "    camera = dict(\n",
    "        eye=dict(x=0., y=0., z=2.5)\n",
    "    )\n",
    "    fig.update_layout(scene_camera=camera)\n",
    "    html_plot = fig.to_html(full_html=False, config=config)\n",
    "    # fig.show(config=config)\n",
    "    return html_plot\n",
    "\n",
    "def minmax(val, themin, themax, a=-1, b=1):\n",
    "    return (b - a) * ((val - themin) / (themax - themin)) + a"
   ]
  },
  {
   "cell_type": "markdown",
   "metadata": {},
   "source": [
    "## Load data"
   ]
  },
  {
   "cell_type": "code",
   "execution_count": 79,
   "metadata": {},
   "outputs": [],
   "source": [
    "heim_hiddens = np.load(os.path.join(model_save_dir, \"heim_hiddens.npy\"))\n",
    "heim_df = pd.read_csv(os.path.join(model_save_dir, \"heim_encodes.csv\"))"
   ]
  },
  {
   "cell_type": "code",
   "execution_count": 80,
   "metadata": {},
   "outputs": [
    {
     "data": {
      "text/plain": [
       "array(['iang', 'z', 'ii', 'l', 'ian', 'x', 'v', 'j', 'iou', 'sh', 'en',\n",
       "       'm', 'e', 'n', 'k', 'r', 'ei', 'd', 'ou', 'i', 'g', 'an', 'zh',\n",
       "       'iii', 'uo', 'u', 'b', 'a', 't', 'ang', 'ch', 'eng', 'ui', 'ai',\n",
       "       'ao', 'ie', 'uang', 'ing', 's', 'rr', 'iao', 'f', 'p', 'q', 've',\n",
       "       'uan', 'h', 'in', 'un', 'ong', 'ia', 'van', 'c', 'ua', 'iong',\n",
       "       'uai', 'vn', 'o'], dtype=object)"
      ]
     },
     "execution_count": 80,
     "metadata": {},
     "output_type": "execute_result"
    }
   ],
   "source": [
    "heim_df[\"tag\"].unique()"
   ]
  },
  {
   "cell_type": "code",
   "execution_count": 81,
   "metadata": {},
   "outputs": [],
   "source": [
    "themin = heim_df[\"0\"].min()\n",
    "themax = heim_df[\"0\"].max()\n",
    "heim_df[\"norm_0\"] = heim_df[\"0\"].apply(lambda x: minmax(x, themin, themax))\n",
    "\n",
    "themin = heim_df[\"1\"].min()\n",
    "themax = heim_df[\"1\"].max()\n",
    "heim_df[\"norm_1\"] = heim_df[\"1\"].apply(lambda x: minmax(x, themin, themax))\n",
    "\n",
    "themin = heim_df[\"2\"].min()\n",
    "themax = heim_df[\"2\"].max()\n",
    "heim_df[\"norm_2\"] = heim_df[\"2\"].apply(lambda x: minmax(x, themin, themax))"
   ]
  },
  {
   "cell_type": "markdown",
   "metadata": {},
   "source": [
    "## Draw vowels"
   ]
  },
  {
   "cell_type": "code",
   "execution_count": 82,
   "metadata": {},
   "outputs": [],
   "source": [
    "def proc_draw(guide, tags, max): \n",
    "    selected_guides = []\n",
    "    num_counts = []\n",
    "    for tag in tags: \n",
    "        selected_guide, count = get_random_samples(guide, tag, tag, max_samples=max)\n",
    "        selected_guides.append(selected_guide)\n",
    "        num_counts.append(count)\n",
    "\n",
    "    combined_guide = combine_guide(selected_guides)\n",
    "    outhtml = plot3dGroup(combined_guide)\n",
    "\n",
    "    filename = \"-\".join(tags)\n",
    "    outname = os.path.join(result_dir, f\"{filename}.html\")\n",
    "    with open(outname, \"w\") as f:\n",
    "        f.write('<meta charset=\"UTF-8\">')\n",
    "        f.write(\"<h3>Phones: {}</h3>\".format(\", \".join(tags)))\n",
    "        # f.write(\"<h3>IPA: {}</h3>\".format(\", \".join(these_ipas)))\n",
    "        f.write(\"<h3>Counts: {}</h3>\".format(\", \".join(map(str, num_counts))))\n",
    "        f.write(\"<hr>\")\n",
    "        # f.write(outtable)\n",
    "        f.write(\"<hr>\")\n",
    "        f.write(outhtml)"
   ]
  },
  {
   "cell_type": "code",
   "execution_count": 83,
   "metadata": {},
   "outputs": [
    {
     "name": "stderr",
     "output_type": "stream",
     "text": [
      "/tmp/ipykernel_586652/3984330027.py:10: SettingWithCopyWarning:\n",
      "\n",
      "\n",
      "A value is trying to be set on a copy of a slice from a DataFrame.\n",
      "Try using .loc[row_indexer,col_indexer] = value instead\n",
      "\n",
      "See the caveats in the documentation: https://pandas.pydata.org/pandas-docs/stable/user_guide/indexing.html#returning-a-view-versus-a-copy\n",
      "\n",
      "/tmp/ipykernel_586652/3984330027.py:10: SettingWithCopyWarning:\n",
      "\n",
      "\n",
      "A value is trying to be set on a copy of a slice from a DataFrame.\n",
      "Try using .loc[row_indexer,col_indexer] = value instead\n",
      "\n",
      "See the caveats in the documentation: https://pandas.pydata.org/pandas-docs/stable/user_guide/indexing.html#returning-a-view-versus-a-copy\n",
      "\n"
     ]
    }
   ],
   "source": [
    "proc_draw(heim_df, [\"sh\", \"r\"], 3000)"
   ]
  },
  {
   "cell_type": "code",
   "execution_count": 84,
   "metadata": {},
   "outputs": [
    {
     "name": "stderr",
     "output_type": "stream",
     "text": [
      "/tmp/ipykernel_586652/3984330027.py:10: SettingWithCopyWarning:\n",
      "\n",
      "\n",
      "A value is trying to be set on a copy of a slice from a DataFrame.\n",
      "Try using .loc[row_indexer,col_indexer] = value instead\n",
      "\n",
      "See the caveats in the documentation: https://pandas.pydata.org/pandas-docs/stable/user_guide/indexing.html#returning-a-view-versus-a-copy\n",
      "\n",
      "/tmp/ipykernel_586652/3984330027.py:10: SettingWithCopyWarning:\n",
      "\n",
      "\n",
      "A value is trying to be set on a copy of a slice from a DataFrame.\n",
      "Try using .loc[row_indexer,col_indexer] = value instead\n",
      "\n",
      "See the caveats in the documentation: https://pandas.pydata.org/pandas-docs/stable/user_guide/indexing.html#returning-a-view-versus-a-copy\n",
      "\n",
      "/tmp/ipykernel_586652/3984330027.py:10: SettingWithCopyWarning:\n",
      "\n",
      "\n",
      "A value is trying to be set on a copy of a slice from a DataFrame.\n",
      "Try using .loc[row_indexer,col_indexer] = value instead\n",
      "\n",
      "See the caveats in the documentation: https://pandas.pydata.org/pandas-docs/stable/user_guide/indexing.html#returning-a-view-versus-a-copy\n",
      "\n"
     ]
    }
   ],
   "source": [
    "proc_draw(heim_df, [\"a\", \"e\", \"i\", \"uo\", \"u\", \"v\"], 1500)"
   ]
  },
  {
   "cell_type": "code",
   "execution_count": 85,
   "metadata": {},
   "outputs": [
    {
     "name": "stderr",
     "output_type": "stream",
     "text": [
      "/tmp/ipykernel_586652/3984330027.py:10: SettingWithCopyWarning:\n",
      "\n",
      "\n",
      "A value is trying to be set on a copy of a slice from a DataFrame.\n",
      "Try using .loc[row_indexer,col_indexer] = value instead\n",
      "\n",
      "See the caveats in the documentation: https://pandas.pydata.org/pandas-docs/stable/user_guide/indexing.html#returning-a-view-versus-a-copy\n",
      "\n"
     ]
    }
   ],
   "source": [
    "proc_draw(heim_df, [\"d\", \"t\"], 3000)"
   ]
  },
  {
   "cell_type": "code",
   "execution_count": 86,
   "metadata": {},
   "outputs": [
    {
     "name": "stderr",
     "output_type": "stream",
     "text": [
      "/tmp/ipykernel_586652/3984330027.py:10: SettingWithCopyWarning:\n",
      "\n",
      "\n",
      "A value is trying to be set on a copy of a slice from a DataFrame.\n",
      "Try using .loc[row_indexer,col_indexer] = value instead\n",
      "\n",
      "See the caveats in the documentation: https://pandas.pydata.org/pandas-docs/stable/user_guide/indexing.html#returning-a-view-versus-a-copy\n",
      "\n",
      "/tmp/ipykernel_586652/3984330027.py:10: SettingWithCopyWarning:\n",
      "\n",
      "\n",
      "A value is trying to be set on a copy of a slice from a DataFrame.\n",
      "Try using .loc[row_indexer,col_indexer] = value instead\n",
      "\n",
      "See the caveats in the documentation: https://pandas.pydata.org/pandas-docs/stable/user_guide/indexing.html#returning-a-view-versus-a-copy\n",
      "\n",
      "/tmp/ipykernel_586652/3984330027.py:10: SettingWithCopyWarning:\n",
      "\n",
      "\n",
      "A value is trying to be set on a copy of a slice from a DataFrame.\n",
      "Try using .loc[row_indexer,col_indexer] = value instead\n",
      "\n",
      "See the caveats in the documentation: https://pandas.pydata.org/pandas-docs/stable/user_guide/indexing.html#returning-a-view-versus-a-copy\n",
      "\n"
     ]
    }
   ],
   "source": [
    "proc_draw(heim_df, [\"a\", \"e\", \"rr\", \"i\", \"u\", \"v\"], 1500)"
   ]
  },
  {
   "cell_type": "code",
   "execution_count": 87,
   "metadata": {},
   "outputs": [
    {
     "name": "stderr",
     "output_type": "stream",
     "text": [
      "/tmp/ipykernel_586652/3984330027.py:10: SettingWithCopyWarning:\n",
      "\n",
      "\n",
      "A value is trying to be set on a copy of a slice from a DataFrame.\n",
      "Try using .loc[row_indexer,col_indexer] = value instead\n",
      "\n",
      "See the caveats in the documentation: https://pandas.pydata.org/pandas-docs/stable/user_guide/indexing.html#returning-a-view-versus-a-copy\n",
      "\n"
     ]
    }
   ],
   "source": [
    "proc_draw(heim_df, [\"i\", \"ii\", \"iii\"], 1500)"
   ]
  },
  {
   "cell_type": "code",
   "execution_count": 88,
   "metadata": {},
   "outputs": [
    {
     "name": "stderr",
     "output_type": "stream",
     "text": [
      "/tmp/ipykernel_586652/3984330027.py:10: SettingWithCopyWarning:\n",
      "\n",
      "\n",
      "A value is trying to be set on a copy of a slice from a DataFrame.\n",
      "Try using .loc[row_indexer,col_indexer] = value instead\n",
      "\n",
      "See the caveats in the documentation: https://pandas.pydata.org/pandas-docs/stable/user_guide/indexing.html#returning-a-view-versus-a-copy\n",
      "\n",
      "/tmp/ipykernel_586652/3984330027.py:10: SettingWithCopyWarning:\n",
      "\n",
      "\n",
      "A value is trying to be set on a copy of a slice from a DataFrame.\n",
      "Try using .loc[row_indexer,col_indexer] = value instead\n",
      "\n",
      "See the caveats in the documentation: https://pandas.pydata.org/pandas-docs/stable/user_guide/indexing.html#returning-a-view-versus-a-copy\n",
      "\n",
      "/tmp/ipykernel_586652/3984330027.py:10: SettingWithCopyWarning:\n",
      "\n",
      "\n",
      "A value is trying to be set on a copy of a slice from a DataFrame.\n",
      "Try using .loc[row_indexer,col_indexer] = value instead\n",
      "\n",
      "See the caveats in the documentation: https://pandas.pydata.org/pandas-docs/stable/user_guide/indexing.html#returning-a-view-versus-a-copy\n",
      "\n"
     ]
    }
   ],
   "source": [
    "proc_draw(heim_df, [\"p\", \"t\", \"k\"], 3000)"
   ]
  },
  {
   "cell_type": "code",
   "execution_count": 89,
   "metadata": {},
   "outputs": [],
   "source": [
    "# vowels = [\"a\", \"e\", \"i\", \"uo\", \"u\", \"v\"]\n",
    "# selected_guides = []\n",
    "# num_counts = []\n",
    "# for vowel in vowels: \n",
    "#     selected_guide, count = get_random_samples(heim_df, vowel, vowel,max_samples=1000)\n",
    "#     selected_guides.append(selected_guide)\n",
    "#     num_counts.append(count)\n",
    "\n",
    "# combined_guide = combine_guide(selected_guides)\n",
    "# # selected_hiddens, selected_tags = get_data_pair(combined_guide, heim_hiddens)\n",
    "\n",
    "# outhtml = plot3dGroup(combined_guide)\n",
    "\n",
    "# outname = os.path.join(result_dir, \"vowels.html\")\n",
    "# with open(outname, \"w\") as f:\n",
    "#     f.write('<meta charset=\"UTF-8\">')\n",
    "#     # f.write(\"<h3>Phones: {}</h3>\".format(\", \".join(these)))\n",
    "#     # f.write(\"<h3>IPA: {}</h3>\".format(\", \".join(these_ipas)))\n",
    "#     # f.write(\"<h3>Counts: {}</h3>\".format(\", \".join(map(str, nums))))\n",
    "#     f.write(\"<hr>\")\n",
    "#     # f.write(outtable)\n",
    "#     f.write(\"<hr>\")\n",
    "#     f.write(outhtml)"
   ]
  },
  {
   "cell_type": "code",
   "execution_count": null,
   "metadata": {},
   "outputs": [],
   "source": []
  },
  {
   "cell_type": "code",
   "execution_count": 16,
   "metadata": {},
   "outputs": [],
   "source": []
  },
  {
   "cell_type": "code",
   "execution_count": null,
   "metadata": {},
   "outputs": [],
   "source": []
  }
 ],
 "metadata": {
  "kernelspec": {
   "display_name": "featln",
   "language": "python",
   "name": "python3"
  },
  "language_info": {
   "codemirror_mode": {
    "name": "ipython",
    "version": 3
   },
   "file_extension": ".py",
   "mimetype": "text/x-python",
   "name": "python",
   "nbconvert_exporter": "python",
   "pygments_lexer": "ipython3",
   "version": "3.11.5"
  }
 },
 "nbformat": 4,
 "nbformat_minor": 2
}

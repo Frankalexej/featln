{
 "cells": [
  {
   "cell_type": "code",
   "execution_count": 1,
   "metadata": {},
   "outputs": [],
   "source": [
    "import pandas as pd\n",
    "import torch\n",
    "import os\n",
    "import numpy as np\n",
    "from ssd_paths import *\n",
    "import glob"
   ]
  },
  {
   "cell_type": "code",
   "execution_count": 2,
   "metadata": {},
   "outputs": [],
   "source": [
    "grounded_namelist = [path.split(\".\")[0] for path in os.listdir(as_phones_extract_path) if path[0] == \"S\"]"
   ]
  },
  {
   "cell_type": "code",
   "execution_count": 3,
   "metadata": {},
   "outputs": [],
   "source": [
    "np.random.shuffle(grounded_namelist)"
   ]
  },
  {
   "cell_type": "code",
   "execution_count": 14,
   "metadata": {},
   "outputs": [],
   "source": [
    "val_names, test_names = grounded_namelist[:len(grounded_namelist)//2], grounded_namelist[len(grounded_namelist)//2:]"
   ]
  },
  {
   "cell_type": "code",
   "execution_count": 4,
   "metadata": {},
   "outputs": [],
   "source": [
    "val_names, test_names = (['SSB0382',\n",
    "  'SSB0415',\n",
    "  'SSB0012',\n",
    "  'SSB0338',\n",
    "  'SSB0393',\n",
    "  'SSB0005',\n",
    "  'SSB0033',\n",
    "  'SSB0395',\n",
    "  'SSB0261'],\n",
    " ['SSB0057',\n",
    "  'SSB0043',\n",
    "  'SSB0011',\n",
    "  'SSB0394',\n",
    "  'SSB0016',\n",
    "  'SSB0299',\n",
    "  'SSB0375',\n",
    "  'SSB0273',\n",
    "  'SSB0139'])"
   ]
  },
  {
   "cell_type": "code",
   "execution_count": 5,
   "metadata": {},
   "outputs": [],
   "source": [
    "val_names = sorted(val_names)\n",
    "test_names = sorted(test_names)"
   ]
  },
  {
   "cell_type": "code",
   "execution_count": 32,
   "metadata": {},
   "outputs": [],
   "source": [
    "val_names_old, test_names_old = (['SSB0005',\n",
    "  'SSB0012',\n",
    "  'SSB0033',\n",
    "  'SSB0261',\n",
    "  'SSB0338',\n",
    "  'SSB0382',\n",
    "  'SSB0393',\n",
    "  'SSB0395',\n",
    "  'SSB0415'],\n",
    " ['SSB0011',\n",
    "  'SSB0016',\n",
    "  'SSB0043',\n",
    "  'SSB0057',\n",
    "  'SSB0139',\n",
    "  'SSB0273',\n",
    "  'SSB0299',\n",
    "  'SSB0375',\n",
    "  'SSB0394'])"
   ]
  },
  {
   "cell_type": "code",
   "execution_count": 20,
   "metadata": {},
   "outputs": [
    {
     "name": "stdout",
     "output_type": "stream",
     "text": [
      "SSB0005\n",
      "SSB0012\n",
      "SSB0338\n"
     ]
    }
   ],
   "source": [
    "for name in val_names:\n",
    "    files = glob.glob(os.path.join(as_phone_seg_anno_path, f'{name}*'))\n",
    "    if len(files) == 0:\n",
    "        print(f'{name}')"
   ]
  },
  {
   "cell_type": "code",
   "execution_count": 21,
   "metadata": {},
   "outputs": [
    {
     "name": "stdout",
     "output_type": "stream",
     "text": [
      "SSB0011\n",
      "SSB0057\n",
      "SSB0299\n"
     ]
    }
   ],
   "source": [
    "for name in test_names:\n",
    "    files = glob.glob(os.path.join(as_phone_seg_anno_path, f'{name}*'))\n",
    "    if len(files) == 0:\n",
    "        print(f'{name}')"
   ]
  },
  {
   "cell_type": "code",
   "execution_count": 22,
   "metadata": {},
   "outputs": [
    {
     "data": {
      "text/plain": [
       "82"
      ]
     },
     "execution_count": 22,
     "metadata": {},
     "output_type": "execute_result"
    }
   ],
   "source": [
    "88 - 6"
   ]
  },
  {
   "cell_type": "markdown",
   "metadata": {},
   "source": [
    "# We just delete these. Because integrating a training set takes too much time! "
   ]
  },
  {
   "cell_type": "code",
   "execution_count": 2,
   "metadata": {},
   "outputs": [],
   "source": [
    "def csv_bind(directory, namelist, target): \n",
    "    csv_files = sorted([f for f in namelist if f.startswith('S')])\n",
    "\n",
    "    # Read and concatenate the CSV files using pandas\n",
    "    dfs = []\n",
    "    for file in csv_files:\n",
    "        df = pd.read_csv(os.path.join(directory, file))\n",
    "        dfs.append(df)\n",
    "\n",
    "    concatenated_df = pd.concat(dfs, ignore_index=True)\n",
    "\n",
    "    # Save the concatenated dataframe as \"log.csv\"\n",
    "    concatenated_df.to_csv(target, index=False)"
   ]
  },
  {
   "cell_type": "code",
   "execution_count": 25,
   "metadata": {},
   "outputs": [],
   "source": [
    "val_names = [\n",
    "  'SSB0033',\n",
    "  'SSB0261',\n",
    "  'SSB0382',\n",
    "  'SSB0393',\n",
    "  'SSB0395',\n",
    "  'SSB0415']\n",
    "test_names = [\n",
    "  'SSB0016',\n",
    "  'SSB0043',\n",
    "  'SSB0139',\n",
    "  'SSB0273',\n",
    "  'SSB0375',\n",
    "  'SSB0394'\n",
    "]"
   ]
  },
  {
   "cell_type": "code",
   "execution_count": 26,
   "metadata": {},
   "outputs": [],
   "source": [
    "val_names = sorted(val_names)\n",
    "test_names = sorted(test_names)"
   ]
  },
  {
   "cell_type": "code",
   "execution_count": 27,
   "metadata": {},
   "outputs": [],
   "source": [
    "val_csvs = []\n",
    "for i in os.listdir(as_phone_seg_anno_new_log_path):\n",
    "    if i.split(\".\")[0][:7] in val_names:\n",
    "        val_csvs.append(i)"
   ]
  },
  {
   "cell_type": "code",
   "execution_count": 28,
   "metadata": {},
   "outputs": [],
   "source": [
    "val_csvs = sorted(val_csvs)"
   ]
  },
  {
   "cell_type": "code",
   "execution_count": 29,
   "metadata": {},
   "outputs": [],
   "source": [
    "test_csvs = []\n",
    "for i in os.listdir(as_phone_seg_anno_new_log_path):\n",
    "    if i.split(\".\")[0][:7] in test_names:\n",
    "        test_csvs.append(i)"
   ]
  },
  {
   "cell_type": "code",
   "execution_count": 30,
   "metadata": {},
   "outputs": [],
   "source": [
    "test_csvs = sorted(test_csvs)"
   ]
  },
  {
   "cell_type": "code",
   "execution_count": 31,
   "metadata": {},
   "outputs": [
    {
     "data": {
      "text/plain": [
       "(2812, 2806)"
      ]
     },
     "execution_count": 31,
     "metadata": {},
     "output_type": "execute_result"
    }
   ],
   "source": [
    "len(val_csvs), len(test_csvs)"
   ]
  },
  {
   "cell_type": "code",
   "execution_count": 33,
   "metadata": {},
   "outputs": [],
   "source": [
    "csv_bind(as_phone_seg_anno_new_log_path, val_csvs, os.path.join(ssd_aishell_path, \"phone_anno_validation.csv\"))"
   ]
  },
  {
   "cell_type": "code",
   "execution_count": 34,
   "metadata": {},
   "outputs": [],
   "source": [
    "csv_bind(as_phone_seg_anno_new_log_path, test_csvs, os.path.join(ssd_aishell_path, \"phone_anno_test.csv\"))"
   ]
  },
  {
   "cell_type": "markdown",
   "metadata": {},
   "source": [
    "Deal with random set"
   ]
  },
  {
   "cell_type": "code",
   "execution_count": 26,
   "metadata": {},
   "outputs": [],
   "source": [
    "trainlog = pd.read_csv(os.path.join(as_phone_seg_random_log_path, \"log.csv\"))"
   ]
  },
  {
   "cell_type": "code",
   "execution_count": 34,
   "metadata": {},
   "outputs": [],
   "source": [
    "speaker = trainlog[\"rec\"].str[:7].unique().tolist()"
   ]
  },
  {
   "cell_type": "code",
   "execution_count": 39,
   "metadata": {},
   "outputs": [],
   "source": [
    "train_names = set(speaker) - set(val_names_old) - set(test_names_old)"
   ]
  },
  {
   "cell_type": "code",
   "execution_count": 33,
   "metadata": {},
   "outputs": [],
   "source": [
    "val_csvs = []\n",
    "for i in os.listdir(as_phone_seg_random_log_path):\n",
    "    if i.split(\".\")[0][:7] in val_names:\n",
    "        val_csvs.append(i)"
   ]
  },
  {
   "cell_type": "code",
   "execution_count": 34,
   "metadata": {},
   "outputs": [],
   "source": [
    "test_csvs = []\n",
    "for i in os.listdir(as_phone_seg_random_log_path):\n",
    "    if i.split(\".\")[0][:7] in test_names:\n",
    "        test_csvs.append(i)"
   ]
  },
  {
   "cell_type": "code",
   "execution_count": 46,
   "metadata": {},
   "outputs": [],
   "source": [
    "train_csvs = []\n",
    "for i in os.listdir(as_phone_seg_random_log_path):\n",
    "    if i.split(\".\")[0][:7] in list(train_names):\n",
    "        train_csvs.append(i)"
   ]
  },
  {
   "cell_type": "code",
   "execution_count": 47,
   "metadata": {},
   "outputs": [],
   "source": [
    "# csv_bind(as_phone_seg_random_log_path, train_csvs, os.path.join(ssd_aishell_path, \"phone_random_train.csv\"))\n",
    "csv_bind(as_phone_seg_random_log_path, val_csvs, os.path.join(ssd_aishell_path, \"phone_random_validation.csv\"))\n",
    "csv_bind(as_phone_seg_random_log_path, test_csvs, os.path.join(ssd_aishell_path, \"phone_random_test.csv\"))"
   ]
  },
  {
   "cell_type": "code",
   "execution_count": null,
   "metadata": {},
   "outputs": [],
   "source": []
  }
 ],
 "metadata": {
  "kernelspec": {
   "display_name": "featln",
   "language": "python",
   "name": "python3"
  },
  "language_info": {
   "codemirror_mode": {
    "name": "ipython",
    "version": 3
   },
   "file_extension": ".py",
   "mimetype": "text/x-python",
   "name": "python",
   "nbconvert_exporter": "python",
   "pygments_lexer": "ipython3",
   "version": "3.11.5"
  }
 },
 "nbformat": 4,
 "nbformat_minor": 2
}

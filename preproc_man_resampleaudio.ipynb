{
 "cells": [
  {
   "cell_type": "code",
   "execution_count": 19,
   "metadata": {},
   "outputs": [],
   "source": [
    "import torchaudio\n",
    "import os\n",
    "\n",
    "from paths import *\n",
    "from misc_progress_bar import draw_progress_bar"
   ]
  },
  {
   "cell_type": "code",
   "execution_count": 20,
   "metadata": {},
   "outputs": [],
   "source": [
    "RESAMPLE_RATE = 16000"
   ]
  },
  {
   "cell_type": "code",
   "execution_count": 21,
   "metadata": {},
   "outputs": [
    {
     "name": "stdout",
     "output_type": "stream",
     "text": [
      "[=================================                 ] 66%\t"
     ]
    }
   ],
   "source": [
    "total = len(os.listdir(as_tar_path))\n",
    "for idx, speaker, in enumerate(os.listdir(as_tar_path)): \n",
    "    # mk(os.path.join(as_wav_path, speaker))\n",
    "    draw_progress_bar(idx, total)\n",
    "    for rec in os.listdir(os.path.join(as_tar_path, speaker)):\n",
    "        if rec.endswith('.wav'):\n",
    "            waveform, sample_rate = torchaudio.load(os.path.join(as_tar_path, speaker, rec))\n",
    "            resampled_waveform = torchaudio.functional.resample(waveform, sample_rate, RESAMPLE_RATE)\n",
    "            torchaudio.save(os.path.join(as_wav_path, rec), resampled_waveform, RESAMPLE_RATE)\n",
    "            "
   ]
  },
  {
   "cell_type": "markdown",
   "metadata": {},
   "source": [
    "## Check size of resampled wav_path"
   ]
  },
  {
   "cell_type": "code",
   "execution_count": 22,
   "metadata": {},
   "outputs": [],
   "source": [
    "def get_directory_size(directory):\n",
    "    total_size = 0\n",
    "    for path, dirs, files in os.walk(directory):\n",
    "        for f in files:\n",
    "            fp = os.path.join(path, f)\n",
    "            total_size += os.path.getsize(fp)\n",
    "    return total_size"
   ]
  },
  {
   "cell_type": "code",
   "execution_count": 23,
   "metadata": {},
   "outputs": [
    {
     "data": {
      "text/plain": [
       "4.174349015578628"
      ]
     },
     "execution_count": 23,
     "metadata": {},
     "output_type": "execute_result"
    }
   ],
   "source": [
    "get_directory_size(as_wav_path) / (1024 * 1024 * 1024)"
   ]
  },
  {
   "cell_type": "code",
   "execution_count": null,
   "metadata": {},
   "outputs": [],
   "source": []
  }
 ],
 "metadata": {
  "kernelspec": {
   "display_name": "featln",
   "language": "python",
   "name": "python3"
  },
  "language_info": {
   "codemirror_mode": {
    "name": "ipython",
    "version": 3
   },
   "file_extension": ".py",
   "mimetype": "text/x-python",
   "name": "python",
   "nbconvert_exporter": "python",
   "pygments_lexer": "ipython3",
   "version": "3.11.5"
  }
 },
 "nbformat": 4,
 "nbformat_minor": 2
}

{
 "cells": [
  {
   "cell_type": "code",
   "execution_count": 5,
   "metadata": {},
   "outputs": [],
   "source": [
    "import pandas as pd\n",
    "from ssd_paths import *"
   ]
  },
  {
   "cell_type": "code",
   "execution_count": 6,
   "metadata": {},
   "outputs": [],
   "source": [
    "def detone(transcription): \n",
    "    if isinstance(transcription, str):\n",
    "        if transcription[-1].isdigit():\n",
    "            return transcription[:-1]\n",
    "    \n",
    "    return transcription"
   ]
  },
  {
   "cell_type": "code",
   "execution_count": 7,
   "metadata": {},
   "outputs": [],
   "source": [
    "def detonolize(csv_path): \n",
    "    # Read in the CSV file\n",
    "    df = pd.read_csv(csv_path)\n",
    "    # Remove the last character of 'token_tonal' if it is a number\n",
    "    df['token_detonal_'] = df['token'].apply(detone)\n",
    "\n",
    "    # Rename 'token' column to 'token_tonal'\n",
    "    df.rename(columns={'token': 'token_tonal'}, inplace=True)\n",
    "    df.rename(columns={'token_detonal_': 'token'}, inplace=True)\n",
    "\n",
    "    df.to_csv(csv_path, index=False)"
   ]
  },
  {
   "cell_type": "code",
   "execution_count": 8,
   "metadata": {},
   "outputs": [],
   "source": [
    "for filename in os.listdir(as_use_path):\n",
    "    if filename.endswith('.csv'):\n",
    "        csv_path = os.path.join(as_use_path, filename)\n",
    "        detonolize(csv_path)"
   ]
  },
  {
   "cell_type": "code",
   "execution_count": null,
   "metadata": {},
   "outputs": [],
   "source": []
  }
 ],
 "metadata": {
  "kernelspec": {
   "display_name": "featln",
   "language": "python",
   "name": "python3"
  },
  "language_info": {
   "codemirror_mode": {
    "name": "ipython",
    "version": 3
   },
   "file_extension": ".py",
   "mimetype": "text/x-python",
   "name": "python",
   "nbconvert_exporter": "python",
   "pygments_lexer": "ipython3",
   "version": "3.11.5"
  }
 },
 "nbformat": 4,
 "nbformat_minor": 2
}

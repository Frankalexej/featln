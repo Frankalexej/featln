{
 "cells": [
  {
   "cell_type": "code",
   "execution_count": 3,
   "metadata": {},
   "outputs": [],
   "source": [
    "import os\n",
    "from paths import *\n",
    "import statistics\n",
    "import itertools\n",
    "import numpy as np\n",
    "import random\n",
    "import pandas as pd"
   ]
  },
  {
   "cell_type": "code",
   "execution_count": 4,
   "metadata": {},
   "outputs": [
    {
     "name": "stdout",
     "output_type": "stream",
     "text": [
      "The total size of the directory '../src/bsc/wav/' is  4.074 GB.\n"
     ]
    }
   ],
   "source": [
    "def get_directory_size(directory):\n",
    "    total_size = 0\n",
    "    for path, dirs, files in os.walk(directory):\n",
    "        for f in files:\n",
    "            fp = os.path.join(path, f)\n",
    "            total_size += os.path.getsize(fp)\n",
    "    return total_size\n",
    "\n",
    "# Example usage\n",
    "directory_path = wav_path\n",
    "size = get_directory_size(directory_path)\n",
    "print(f\"The total size of the directory '{directory_path}' is {size/(1024*1024*1024): .3f} GB.\")"
   ]
  },
  {
   "cell_type": "code",
   "execution_count": 5,
   "metadata": {},
   "outputs": [],
   "source": [
    "ssd_base_path = \"/media/ldlmdl/A2AAE4B1AAE482E1/SSD_Documents/featln/\"\n",
    "ssd_src_path = ssd_base_path + \"src/\"\n",
    "ssd_aishell_path = ssd_src_path + \"aishell/\"\n",
    "as_original_path = ssd_aishell_path + \"original/\""
   ]
  },
  {
   "cell_type": "code",
   "execution_count": null,
   "metadata": {},
   "outputs": [],
   "source": [
    "def get_directory_size(directory):\n",
    "    total_size = 0\n",
    "    for path, dirs, files in os.walk(directory):\n",
    "        for f in files:\n",
    "            fp = os.path.join(path, f)\n",
    "            total_size += os.path.getsize(fp)\n",
    "    return total_size\n",
    "\n",
    "def select_subdirs(directory, target_size):\n",
    "    subdirs = [subdir for subdir in os.listdir(directory) if os.path.isdir(os.path.join(directory, subdir))]\n",
    "    subdirs_sizes = [(subdir, get_directory_size(os.path.join(directory, subdir))) for subdir in subdirs]\n",
    "    subdirs_sizes.sort(key=lambda x: x[1])  # Sort subdirectories based on total size\n",
    "\n",
    "    selected_subdirs = []\n",
    "    selected_size = 0\n",
    "    selected_sizes = []\n",
    "    for subdir, size in subdirs_sizes:\n",
    "        if selected_size + size <= target_size:\n",
    "            selected_subdirs.append((subdir, size))\n",
    "            selected_size += size\n",
    "            selected_sizes.append(size)\n",
    "\n",
    "    # Calculate the variance of selected sizes\n",
    "    variance = statistics.variance(selected_sizes)\n",
    "    print(variance)\n",
    "\n",
    "    # If variance is greater than a threshold, remove the last selected subdirectory\n",
    "    threshold = 0.1  # Adjust the threshold as per your requirement\n",
    "    if variance > threshold and len(selected_subdirs) > 1:\n",
    "        selected_subdirs.pop()\n",
    "        selected_size -= selected_sizes[-1]\n",
    "\n",
    "    return selected_subdirs\n",
    "\n",
    "# Example usage\n",
    "directory_path = as_original_path\n",
    "target_size = 4.074 * (pow(1024, 3))  # Target size in GB\n",
    "selected_subdirs = select_subdirs(directory_path, target_size)\n",
    "print(\"Selected subdirectories:\")\n",
    "for subdir, size in selected_subdirs:\n",
    "    print(f\"Subdirectory: {subdir}\")\n",
    "    print(f\"Total size: {size} bytes\")\n"
   ]
  },
  {
   "cell_type": "code",
   "execution_count": 6,
   "metadata": {},
   "outputs": [],
   "source": [
    "def get_directory_size(directory):\n",
    "    total_size = 0\n",
    "    for path, dirs, files in os.walk(directory):\n",
    "        for f in files:\n",
    "            fp = os.path.join(path, f)\n",
    "            total_size += os.path.getsize(fp)\n",
    "    return total_size"
   ]
  },
  {
   "cell_type": "code",
   "execution_count": 7,
   "metadata": {},
   "outputs": [],
   "source": [
    "def find_sublist(arr, target_sum, max_variance):\n",
    "    best_sublist = []\n",
    "    best_variance = float('inf')\n",
    "\n",
    "    for r in range(1, len(arr) + 1):\n",
    "        for combo in itertools.combinations(arr, r):\n",
    "            current_sum = sum(combo)\n",
    "            current_variance = np.var(combo)\n",
    "\n",
    "            if abs(current_sum - target_sum) < abs(sum(best_sublist) - target_sum) and current_variance <= max_variance:\n",
    "                best_sublist = list(combo)\n",
    "                best_variance = current_variance\n",
    "\n",
    "    return best_sublist"
   ]
  },
  {
   "cell_type": "code",
   "execution_count": 8,
   "metadata": {},
   "outputs": [],
   "source": [
    "subdirs = [subdir for subdir in os.listdir(as_original_path) if os.path.isdir(os.path.join(as_original_path, subdir))]\n",
    "subdirs_sizes = [(subdir, get_directory_size(os.path.join(as_original_path, subdir))) for subdir in subdirs]\n",
    "subdirs_sizes.sort(key=lambda x: x[1])  # Sort subdirectories based on total size\n",
    "names_list, sizes_list = zip(*subdirs_sizes)"
   ]
  },
  {
   "cell_type": "code",
   "execution_count": 52,
   "metadata": {},
   "outputs": [],
   "source": [
    "import os\n",
    "\n",
    "# Get the list of filenames in the directory\n",
    "filenames = sorted(os.listdir(wav_path))\n",
    "\n",
    "# Create a dictionary to store the speakers\n",
    "speakers = {}\n",
    "\n",
    "# Categorize the filenames into speakers\n",
    "for filename in filenames:\n",
    "    speaker = filename[:3]\n",
    "    if speaker not in speakers:\n",
    "        speakers[speaker] = []\n",
    "    speakers[speaker].append(filename)\n"
   ]
  },
  {
   "cell_type": "code",
   "execution_count": null,
   "metadata": {},
   "outputs": [],
   "source": []
  },
  {
   "cell_type": "code",
   "execution_count": null,
   "metadata": {},
   "outputs": [],
   "source": [
    "sizes_ = []\n",
    "for speaker, files in speakers.items():\n",
    "    print(f\"Speaker: {speaker}\")\n",
    "    print(f\"Number of files: {len(files)}\")\n",
    "    total_size = 0\n",
    "    for file in files:\n",
    "        total_size += os.path.getsize(os.path.join(wav_path, file))\n",
    "\n",
    "    total_size /= 1048576\n",
    "    sizes_.append(total_size)\n",
    "    print(f\"Total size: {total_size:.3f} MB\")"
   ]
  },
  {
   "cell_type": "code",
   "execution_count": 9,
   "metadata": {},
   "outputs": [
    {
     "ename": "NameError",
     "evalue": "name 'sizes_' is not defined",
     "output_type": "error",
     "traceback": [
      "\u001b[0;31m---------------------------------------------------------------------------\u001b[0m",
      "\u001b[0;31mNameError\u001b[0m                                 Traceback (most recent call last)",
      "\u001b[1;32m/home/ldlmdl/Documents/featln/scripts/man_preproc_charsiu.ipynb Cell 10\u001b[0m line \u001b[0;36m1\n\u001b[0;32m----> <a href='vscode-notebook-cell:/home/ldlmdl/Documents/featln/scripts/man_preproc_charsiu.ipynb#X12sZmlsZQ%3D%3D?line=0'>1</a>\u001b[0m sizes_ \u001b[39m=\u001b[39m np\u001b[39m.\u001b[39marray(sizes_)\n\u001b[1;32m      <a href='vscode-notebook-cell:/home/ldlmdl/Documents/featln/scripts/man_preproc_charsiu.ipynb#X12sZmlsZQ%3D%3D?line=1'>2</a>\u001b[0m sizes_\u001b[39m.\u001b[39mmean()\n",
      "\u001b[0;31mNameError\u001b[0m: name 'sizes_' is not defined"
     ]
    }
   ],
   "source": [
    "sizes_ = np.array(sizes_)\n",
    "sizes_.mean()"
   ]
  },
  {
   "cell_type": "code",
   "execution_count": 10,
   "metadata": {},
   "outputs": [],
   "source": [
    "rnl = sorted(names_list, reverse=True)"
   ]
  },
  {
   "cell_type": "code",
   "execution_count": 11,
   "metadata": {},
   "outputs": [],
   "source": [
    "resample_ratio = 2.7546"
   ]
  },
  {
   "cell_type": "code",
   "execution_count": 13,
   "metadata": {},
   "outputs": [],
   "source": [
    "def select_files(directory, target_size):\n",
    "    files = os.listdir(directory)\n",
    "    random.shuffle(files)  # Shuffle the list of files randomly\n",
    "\n",
    "    selected_files = []\n",
    "    selected_size = 0\n",
    "\n",
    "    for file in files:\n",
    "        file_path = os.path.join(directory, file)\n",
    "        file_size = os.path.getsize(file_path)\n",
    "\n",
    "        if selected_size + file_size <= target_size:\n",
    "            selected_files.append(file)\n",
    "            selected_size += file_size\n",
    "\n",
    "    return selected_files"
   ]
  },
  {
   "cell_type": "code",
   "execution_count": null,
   "metadata": {},
   "outputs": [],
   "source": [
    "df = pd.DataFrame(columns=['speaker', 'rec'])\n",
    "for subdir in rnl: \n",
    "    # Example usage\n",
    "    directory_path = os.path.join(as_original_path, subdir)\n",
    "    target_size = 104.28599400520325 * (1024*1024) * resample_ratio # Target size in bytes (e.g., 1 GB)\n",
    "    selected_files = select_files(directory_path, target_size)\n",
    "    selected_files = sorted(selected_files)\n",
    "    add_content = pd.DataFrame({'speaker': [subdir] * len(selected_files), 'rec': selected_files})\n",
    "    df = pd.concat([df, add_content], axis=0)"
   ]
  },
  {
   "cell_type": "code",
   "execution_count": 15,
   "metadata": {},
   "outputs": [],
   "source": [
    "df.to_csv(ssd_aishell_path + 'filelog.csv', index=False)"
   ]
  },
  {
   "cell_type": "code",
   "execution_count": 68,
   "metadata": {},
   "outputs": [],
   "source": [
    "import torchaudio"
   ]
  },
  {
   "cell_type": "code",
   "execution_count": 69,
   "metadata": {},
   "outputs": [],
   "source": [
    "tp = os.path.join(as_original_path, \"SSB0005\", \"SSB00050024.wav\")"
   ]
  },
  {
   "cell_type": "code",
   "execution_count": 70,
   "metadata": {},
   "outputs": [],
   "source": [
    "wave, sr = torchaudio.load(tp)"
   ]
  },
  {
   "cell_type": "code",
   "execution_count": 74,
   "metadata": {},
   "outputs": [],
   "source": [
    "rswave = torchaudio.functional.resample(wave, sr, 16000)"
   ]
  },
  {
   "cell_type": "code",
   "execution_count": 76,
   "metadata": {},
   "outputs": [
    {
     "data": {
      "text/plain": [
       "(torch.Size([1, 56112]), torch.Size([1, 154657]))"
      ]
     },
     "execution_count": 76,
     "metadata": {},
     "output_type": "execute_result"
    }
   ],
   "source": [
    "rswave.shape, wave.shape"
   ]
  },
  {
   "cell_type": "code",
   "execution_count": 78,
   "metadata": {},
   "outputs": [],
   "source": [
    "torchaudio.save(\"test.wav\", rswave, 16000)"
   ]
  },
  {
   "cell_type": "code",
   "execution_count": 79,
   "metadata": {},
   "outputs": [
    {
     "data": {
      "text/plain": [
       "2.7546971558832434"
      ]
     },
     "execution_count": 79,
     "metadata": {},
     "output_type": "execute_result"
    }
   ],
   "source": [
    "os.path.getsize(tp) / os.path.getsize(\"test.wav\")"
   ]
  },
  {
   "cell_type": "code",
   "execution_count": null,
   "metadata": {},
   "outputs": [],
   "source": []
  }
 ],
 "metadata": {
  "kernelspec": {
   "display_name": "featln",
   "language": "python",
   "name": "python3"
  },
  "language_info": {
   "codemirror_mode": {
    "name": "ipython",
    "version": 3
   },
   "file_extension": ".py",
   "mimetype": "text/x-python",
   "name": "python",
   "nbconvert_exporter": "python",
   "pygments_lexer": "ipython3",
   "version": "3.11.5"
  }
 },
 "nbformat": 4,
 "nbformat_minor": 2
}

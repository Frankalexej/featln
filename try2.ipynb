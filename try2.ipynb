{
 "cells": [
  {
   "cell_type": "code",
   "execution_count": 12,
   "metadata": {},
   "outputs": [],
   "source": [
    "import os\n",
    "import pandas as pd\n",
    "import torch\n",
    "\n",
    "from paths import *"
   ]
  },
  {
   "cell_type": "code",
   "execution_count": 15,
   "metadata": {},
   "outputs": [],
   "source": [
    "log_ = os.path.join(bsc_path, \"anno-log.csv\")\n",
    "guide_log = pd.read_csv(log_)\n",
    "guide_log = guide_log[guide_log['n_frames'] > 400]\n",
    "guide_log = guide_log[guide_log['duration'] <= 2.0]"
   ]
  },
  {
   "cell_type": "code",
   "execution_count": 16,
   "metadata": {},
   "outputs": [],
   "source": [
    "rec_dict = guide_log.groupby('rec').groups\n",
    "idx_list = guide_log[\"idx\"].tolist()\n",
    "# Sort the lists of indices for each 'rec' value\n",
    "for rec in rec_dict:\n",
    "    rec_dict[rec] = sorted([idx_list[idx] for idx in rec_dict[rec]])"
   ]
  },
  {
   "cell_type": "code",
   "execution_count": 17,
   "metadata": {},
   "outputs": [],
   "source": [
    "for rec in rec_dict:\n",
    "    mfcc_path = os.path.join(phone_seg_anno_MF_path, rec + \".mfcc\")\n",
    "    mfcc = torch.load(mfcc_path)\n",
    "    if len(mfcc) != len(rec_dict[rec]):\n",
    "        print(f\"{rec}\")"
   ]
  },
  {
   "cell_type": "code",
   "execution_count": 2,
   "metadata": {},
   "outputs": [],
   "source": [
    "from paths import *\n",
    "import os"
   ]
  },
  {
   "cell_type": "code",
   "execution_count": 3,
   "metadata": {},
   "outputs": [
    {
     "name": "stdout",
     "output_type": "stream",
     "text": [
      "['phone_anno_train.csv', 'phone_random_train.csv', 'phone_random.mfcc', 'phone_random_test.csv', 'phone_anno_test.csv', 'phone_anno.mfcc', 'phone_anno_validation.csv', 'phone_random_validation.csv']\n"
     ]
    }
   ],
   "source": [
    "print(os.listdir(bsc_use_path))"
   ]
  },
  {
   "cell_type": "markdown",
   "metadata": {},
   "source": []
  }
 ],
 "metadata": {
  "kernelspec": {
   "display_name": "featln",
   "language": "python",
   "name": "python3"
  },
  "language_info": {
   "codemirror_mode": {
    "name": "ipython",
    "version": 3
   },
   "file_extension": ".py",
   "mimetype": "text/x-python",
   "name": "python",
   "nbconvert_exporter": "python",
   "pygments_lexer": "ipython3",
   "version": "3.11.5"
  }
 },
 "nbformat": 4,
 "nbformat_minor": 2
}

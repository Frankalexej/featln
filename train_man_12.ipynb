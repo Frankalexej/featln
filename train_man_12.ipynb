{
 "cells": [
  {
   "cell_type": "markdown",
   "metadata": {},
   "source": [
    "# Model Run Mandarin\n",
    "Version 1.0  \n",
    "\n",
    "Version 2.0\n",
    "Added dropout layer. \n",
    "\n",
    "Version 3.0  \n",
    "Lowered dimensionality. \n",
    "\n",
    "Version 4.0  \n",
    "Changed ReLU to Tanh\n",
    "\n",
    "Version 5.0  \n",
    "Deleted resblock\n",
    "\n",
    "Version 6.0  \n",
    "Added back. Hiddim back to 3. \n",
    "\n",
    "Version 7.0  \n",
    "This time using MF data. \n",
    "\n",
    "Version 8.0  \n",
    "Very new! Now we are using flying dataset. As to normalizer we are not using strip mvn. \n",
    "\n",
    "Version 10.0  \n",
    "Cancelling flying dataset. But normalizer is done there. "
   ]
  },
  {
   "cell_type": "markdown",
   "metadata": {},
   "source": [
    "## Import Libs"
   ]
  },
  {
   "cell_type": "code",
   "execution_count": 1,
   "metadata": {},
   "outputs": [],
   "source": [
    "import matplotlib.pyplot as plt\n",
    "import os\n",
    "import torch\n",
    "from torch import optim\n",
    "import numpy as np\n",
    "from torch.utils.data import DataLoader, random_split\n",
    "from torchinfo import summary\n",
    "from sklearn.cluster import KMeans\n",
    "from sklearn.metrics import homogeneity_completeness_v_measure\n",
    "import pickle\n",
    "import random\n",
    "\n",
    "from paths import *\n",
    "from ssd_paths import *\n",
    "# from model_config import *\n",
    "from model_dataset import *\n",
    "# from model_model import *\n",
    "from my_utils import get_timestamp\n",
    "from misc_recorder import *\n",
    "from misc_progress_bar import draw_progress_bar"
   ]
  },
  {
   "cell_type": "markdown",
   "metadata": {},
   "source": [
    "## Localize Dirs"
   ]
  },
  {
   "cell_type": "code",
   "execution_count": 2,
   "metadata": {},
   "outputs": [],
   "source": [
    "model_save_ = model_man_save_dir\n",
    "\n",
    "random_train_data_ = os.path.join(as_use_path, \"phone_random_train.mfcc\")\n",
    "radnom_valid_data_ = os.path.join(as_use_path, \"phone_random_test.mfcc\")\n",
    "# the anno_test_data_ is much smaller than the valid_data_, so we switch them\n",
    "anno_valid_data_ = os.path.join(as_use_path, \"phone_anno_test.mfcc\")\n",
    "\n",
    "random_train_guide_ = os.path.join(as_use_path, \"phone_random_train.csv\")\n",
    "random_valid_guide_ = os.path.join(as_use_path, \"phone_random_test.csv\")\n",
    "anno_valid_guide_ = os.path.join(as_use_path, \"phone_anno_test.csv\")"
   ]
  },
  {
   "cell_type": "code",
   "execution_count": 3,
   "metadata": {},
   "outputs": [],
   "source": [
    "# for file in os.listdir(as_use_path): \n",
    "#     if file.endswith(\".csv\"): \n",
    "#         guide_log = pd.read_csv(os.path.join(as_use_path, file))\n",
    "#         guide_log = guide_log[guide_log['n_frames'] > 400]\n",
    "#         guide_log = guide_log[guide_log['duration'] <= 2.0]\n",
    "#         assert len(guide_log) == len(torch.load(os.path.join(as_use_path, file[:-4] + \".mfcc\")))\n",
    "\n",
    "#         guide_log.to_csv(os.path.join(as_use_path, file), index=False)"
   ]
  },
  {
   "cell_type": "markdown",
   "metadata": {},
   "source": [
    "## Configure READ"
   ]
  },
  {
   "cell_type": "code",
   "execution_count": 4,
   "metadata": {},
   "outputs": [],
   "source": [
    "READ = False"
   ]
  },
  {
   "cell_type": "code",
   "execution_count": 5,
   "metadata": {},
   "outputs": [],
   "source": [
    "BATCH_SIZE = 128\n",
    "LOADER_WORKER = 16\n",
    "\n",
    "FRAMES_IN_SEGMENT = 25\n",
    "\n",
    "MFCC_DIM = 13\n",
    "INPUT_DIM = FRAMES_IN_SEGMENT * MFCC_DIM * 3\n",
    "OUTPUT_DIM = FRAMES_IN_SEGMENT * MFCC_DIM\n",
    "# let's still maintain these interdims but just ignore them when building the model \n",
    "INTER_DIM_1 = 256\n",
    "INTER_DIM_2 = 64\n",
    "INTER_DIM_3 = 16\n",
    "LATENT_DIM = 8\n",
    "\n",
    "DROPOUT = 0.5"
   ]
  },
  {
   "cell_type": "markdown",
   "metadata": {},
   "source": [
    "## Get Training Stamp"
   ]
  },
  {
   "cell_type": "code",
   "execution_count": 6,
   "metadata": {},
   "outputs": [
    {
     "name": "stdout",
     "output_type": "stream",
     "text": [
      "MFNewNorm-1124142422\n"
     ]
    }
   ],
   "source": [
    "if READ: \n",
    "    ts = \"1116223120\"\n",
    "else: \n",
    "    ts = str(get_timestamp())\n",
    "\n",
    "train_name = \"dim-8\"\n",
    "model_save_dir = os.path.join(model_save_, f\"{train_name}-{ts}\")\n",
    "mk(model_save_dir)\n",
    "\n",
    "stop_epoch = \"32\"\n",
    "trainhist_name = \"train.hst\"\n",
    "valhist_name = \"val.hst\"\n",
    "valacc_name = \"valacc.hst\"\n",
    "print(f\"{train_name}-{ts}\")"
   ]
  },
  {
   "cell_type": "markdown",
   "metadata": {},
   "source": [
    "## Prepare Loss Recording"
   ]
  },
  {
   "cell_type": "code",
   "execution_count": 7,
   "metadata": {},
   "outputs": [],
   "source": [
    "train_losses = ListRecorder(os.path.join(model_save_dir, trainhist_name))\n",
    "valid_losses = ListRecorder(os.path.join(model_save_dir, valhist_name))\n",
    "\n",
    "# valid_accs = ListRecorder(os.path.join(model_save_dir, valacc_name))"
   ]
  },
  {
   "cell_type": "code",
   "execution_count": 8,
   "metadata": {},
   "outputs": [],
   "source": [
    "TYPE = \"part\""
   ]
  },
  {
   "cell_type": "code",
   "execution_count": 9,
   "metadata": {},
   "outputs": [
    {
     "name": "stdout",
     "output_type": "stream",
     "text": [
      "817955 817955\n",
      "65726 65726\n"
     ]
    }
   ],
   "source": [
    "# transform = nn.Sequential(\n",
    "#     Resampler(4240, 1), \n",
    "#     MFCCTransform()\n",
    "# )\n",
    "# normalizer=Normalizer.norm_strip_mvn\n",
    "\n",
    "train_ds = UngroundedSoundDataset(random_train_data_, random_train_guide_)\n",
    "valid_ds = UngroundedSoundDataset(radnom_valid_data_, random_valid_guide_)\n",
    "\n",
    "if TYPE == \"part\": \n",
    "    use_len = int(0.1 * len(train_ds))\n",
    "    remain_len = len(train_ds) - use_len\n",
    "    use_train_ds, remain_ds = random_split(train_ds, [use_len, remain_len])\n",
    "\n",
    "    use_len = int(0.1 * len(valid_ds))\n",
    "    remain_len = len(valid_ds) - use_len\n",
    "    use_valid_ds, remain_ds = random_split(valid_ds, [use_len, remain_len])\n",
    "\n",
    "    train_loader = DataLoader(use_train_ds, batch_size=BATCH_SIZE, \n",
    "                            shuffle=True, \n",
    "                            num_workers=LOADER_WORKER)\n",
    "    train_num = len(train_loader.dataset)\n",
    "\n",
    "    valid_loader = DataLoader(use_valid_ds, batch_size=BATCH_SIZE, \n",
    "                            shuffle=False, \n",
    "                            num_workers=LOADER_WORKER)\n",
    "elif TYPE == \"full\": \n",
    "    use_train_ds = train_ds\n",
    "    use_valid_ds = valid_ds\n",
    "    \n",
    "elif TYPE == \"same\":\n",
    "    train_len = int(0.8 * len(train_ds))\n",
    "    valid_len = len(train_ds) - train_len\n",
    "    use_train_ds, use_valid_ds = random_split(train_ds, [train_len, valid_len])\n",
    "\n",
    "train_loader = DataLoader(use_train_ds, batch_size=BATCH_SIZE, \n",
    "                        shuffle=True, \n",
    "                        num_workers=LOADER_WORKER)\n",
    "train_num = len(train_loader.dataset)\n",
    "\n",
    "valid_loader = DataLoader(use_valid_ds, batch_size=BATCH_SIZE, \n",
    "                        shuffle=False, \n",
    "                        num_workers=LOADER_WORKER)\n",
    "valid_num = len(valid_loader.dataset)"
   ]
  },
  {
   "cell_type": "code",
   "execution_count": 10,
   "metadata": {},
   "outputs": [
    {
     "data": {
      "text/plain": [
       "(81795, 6572)"
      ]
     },
     "execution_count": 10,
     "metadata": {},
     "output_type": "execute_result"
    }
   ],
   "source": [
    "train_num, valid_num"
   ]
  },
  {
   "cell_type": "markdown",
   "metadata": {},
   "source": [
    "## Init Model"
   ]
  },
  {
   "cell_type": "code",
   "execution_count": 11,
   "metadata": {},
   "outputs": [],
   "source": [
    "class ResBlock(nn.Module):\n",
    "    def __init__(self, n_chans):\n",
    "        super(ResBlock, self).__init__()\n",
    "        self.lin1 = nn.Linear(n_chans, n_chans)\n",
    "        self.lin2 = nn.Linear(n_chans, n_chans)\n",
    "        # self.batch_norm = nn.BatchNorm1d(num_features=n_chans)  # <5>\n",
    "        self.batch_norm = nn.LayerNorm(n_chans)\n",
    "        # self.dropout = nn.Dropout(p=DROPOUT)\n",
    "        self.relu = nn.ReLU()\n",
    "        # self.relu = nn.ReLU()\n",
    "        # self.relu = nn.Tanh()\n",
    "\n",
    "    def forward(self, x):\n",
    "        out = self.lin1(x)\n",
    "        out = self.batch_norm(out)\n",
    "        out = self.relu(out)\n",
    "        out = self.lin2(out)\n",
    "        out = self.batch_norm(out)\n",
    "        out = self.relu(out)\n",
    "        out = out + x\n",
    "        # out = self.dropout(out)\n",
    "        return out\n",
    "\n",
    "class LinPack(nn.Module):\n",
    "    def __init__(self, n_in, n_out):\n",
    "        super(LinPack, self).__init__()\n",
    "        self.lin = nn.Linear(n_in, n_out)\n",
    "        self.relu = nn.ReLU()\n",
    "        # self.relu = nn.ReLU()\n",
    "        # self.relu = nn.Tanh()\n",
    "        # self.batch_norm = nn.BatchNorm1d(num_features=n_out)\n",
    "        self.batch_norm = nn.LayerNorm(n_out)\n",
    "        self.dropout = nn.Dropout(p=DROPOUT)\n",
    "\n",
    "    def forward(self, x):\n",
    "        x = self.lin(x)\n",
    "        x = self.relu(x)\n",
    "        x = self.batch_norm(x)\n",
    "        x = self.dropout(x)\n",
    "        return x\n",
    "\n",
    "\n",
    "class ResAE(nn.Module):\n",
    "    def __init__(self, input_dim=INPUT_DIM, inter_dim1=INTER_DIM_1, inter_dim2=INTER_DIM_2, inter_dim3=INTER_DIM_3, latent_dim=LATENT_DIM, output_dim=OUTPUT_DIM):\n",
    "        super(ResAE, self).__init__()\n",
    "\n",
    "        self.encoder = nn.Sequential(\n",
    "            LinPack(input_dim, inter_dim1), \n",
    "            # LinPack(inter_dim1, inter_dim3), \n",
    "            ResBlock(inter_dim1), \n",
    "\n",
    "            nn.Linear(inter_dim1, latent_dim), \n",
    "            nn.Sigmoid()\n",
    "        )\n",
    "\n",
    "        self.decoder =  nn.Sequential(\n",
    "            LinPack(latent_dim, inter_dim1), \n",
    "            # LinPack(inter_dim3, inter_dim1),\n",
    "            ResBlock(inter_dim1), \n",
    "\n",
    "            nn.Linear(inter_dim1, output_dim),\n",
    "            # nn.Sigmoid(),\n",
    "        )\n",
    "\n",
    "        # initialize the weights\n",
    "        self.encoder.apply(self.init_weights)\n",
    "        self.decoder.apply(self.init_weights)\n",
    "        \n",
    "    def init_weights(self, m):\n",
    "        if isinstance(m, nn.Linear):\n",
    "            nn.init.xavier_uniform_(m.weight)\n",
    "            # nn.init.kaiming_normal_(m.weight, mode='fan_out', nonlinearity='relu')\n",
    "            m.bias.data.fill_(0.01)\n",
    "\n",
    "    def forward(self, x):\n",
    "        org_size = x.size()\n",
    "        y_size = (org_size[0], org_size[1], org_size[2] // 3)\n",
    "        batch = org_size[0]\n",
    "        x = x.view(batch, -1)\n",
    "\n",
    "        h = self.encoder(x)\n",
    "        recon_x = self.decoder(h).view(size=y_size)\n",
    "\n",
    "        return recon_x\n",
    "    \n",
    "    def encode(self, x):\n",
    "        org_size = x.size()\n",
    "        y_size = (org_size[0], org_size[1], org_size[2] // 3)\n",
    "        batch = org_size[0]\n",
    "        x = x.view(batch, -1)\n",
    "\n",
    "        h = self.encoder(x)\n",
    "        return h"
   ]
  },
  {
   "cell_type": "code",
   "execution_count": 12,
   "metadata": {},
   "outputs": [
    {
     "name": "stderr",
     "output_type": "stream",
     "text": [
      "/home/ldlmdl/anaconda3/envs/featln/lib/python3.11/site-packages/tqdm/auto.py:21: TqdmWarning: IProgress not found. Please update jupyter and ipywidgets. See https://ipywidgets.readthedocs.io/en/stable/user_install.html\n",
      "  from .autonotebook import tqdm as notebook_tqdm\n"
     ]
    },
    {
     "data": {
      "text/plain": [
       "ResAE(\n",
       "  (encoder): Sequential(\n",
       "    (0): LinPack(\n",
       "      (lin): Linear(in_features=975, out_features=256, bias=True)\n",
       "      (relu): ReLU()\n",
       "      (batch_norm): LayerNorm((256,), eps=1e-05, elementwise_affine=True)\n",
       "      (dropout): Dropout(p=0.5, inplace=False)\n",
       "    )\n",
       "    (1): ResBlock(\n",
       "      (lin1): Linear(in_features=256, out_features=256, bias=True)\n",
       "      (lin2): Linear(in_features=256, out_features=256, bias=True)\n",
       "      (batch_norm): LayerNorm((256,), eps=1e-05, elementwise_affine=True)\n",
       "      (relu): ReLU()\n",
       "    )\n",
       "    (2): Linear(in_features=256, out_features=8, bias=True)\n",
       "    (3): Sigmoid()\n",
       "  )\n",
       "  (decoder): Sequential(\n",
       "    (0): LinPack(\n",
       "      (lin): Linear(in_features=8, out_features=256, bias=True)\n",
       "      (relu): ReLU()\n",
       "      (batch_norm): LayerNorm((256,), eps=1e-05, elementwise_affine=True)\n",
       "      (dropout): Dropout(p=0.5, inplace=False)\n",
       "    )\n",
       "    (1): ResBlock(\n",
       "      (lin1): Linear(in_features=256, out_features=256, bias=True)\n",
       "      (lin2): Linear(in_features=256, out_features=256, bias=True)\n",
       "      (batch_norm): LayerNorm((256,), eps=1e-05, elementwise_affine=True)\n",
       "      (relu): ReLU()\n",
       "    )\n",
       "    (2): Linear(in_features=256, out_features=325, bias=True)\n",
       "  )\n",
       ")"
      ]
     },
     "execution_count": 12,
     "metadata": {},
     "output_type": "execute_result"
    }
   ],
   "source": [
    "recon_loss = nn.MSELoss()\n",
    "# recon_loss = nn.CrossEntropyLoss()\n",
    "device = torch.device('cuda' if torch.cuda.is_available() else 'cpu')\n",
    "\n",
    "model = ResAE(INPUT_DIM, INTER_DIM_1, INTER_DIM_2, INTER_DIM_3, LATENT_DIM, OUTPUT_DIM)\n",
    "model.to(device)\n",
    "optimizer = optim.Adam(model.parameters(), lr=1e-3)\n",
    "# scheduler = optim.lr_scheduler.StepLR(optimizer, step_size=3, gamma=0.1)\n",
    "\n",
    "# Define the file path and name\n",
    "model_info_file = os.path.join(model_save_dir, 'model.txt')\n",
    "\n",
    "# Open the file in write mode\n",
    "with open(model_info_file, 'w') as f:\n",
    "    f.write(str(model))\n",
    "    f.write('\\n\\n')\n",
    "    f.write(str(summary(model, input_size=(BATCH_SIZE, FRAMES_IN_SEGMENT, MFCC_DIM * 3))))\n",
    "model"
   ]
  },
  {
   "cell_type": "code",
   "execution_count": 13,
   "metadata": {},
   "outputs": [
    {
     "data": {
      "text/plain": [
       "602957"
      ]
     },
     "execution_count": 13,
     "metadata": {},
     "output_type": "execute_result"
    }
   ],
   "source": [
    "model_parameters = filter(lambda p: p.requires_grad, model.parameters())\n",
    "params = sum([np.prod(p.size()) for p in model_parameters])\n",
    "params"
   ]
  },
  {
   "cell_type": "markdown",
   "metadata": {},
   "source": [
    "## Load Model if READ"
   ]
  },
  {
   "cell_type": "code",
   "execution_count": 14,
   "metadata": {},
   "outputs": [],
   "source": [
    "if READ: \n",
    "    valid_losses.read()\n",
    "    train_losses.read()\n",
    "\n",
    "    model_raw_name = f\"{stop_epoch}\"\n",
    "    model_name = model_raw_name + \".pt\"\n",
    "    model_path = os.path.join(model_save_dir, model_name)\n",
    "    state = torch.load(model_path)\n",
    "\n",
    "    model.load_state_dict(state)\n",
    "    model.to(device)"
   ]
  },
  {
   "cell_type": "markdown",
   "metadata": {},
   "source": [
    "## Define Training"
   ]
  },
  {
   "cell_type": "code",
   "execution_count": 15,
   "metadata": {},
   "outputs": [],
   "source": [
    "def draw_learning_curve(losses, others, epoch=\"\", save_path=None): \n",
    "    train_losses, valid_losses = losses\n",
    "    best_val_loss = others\n",
    "    plt.clf()\n",
    "    # fig, (ax1) = plt.subplots(1, 1, figsize=(18, 4))\n",
    "    plt.plot(train_losses, label='Train')\n",
    "    plt.plot(valid_losses, label='Valid')\n",
    "    plt.axvline(x=best_val_loss, color='r', linestyle='--', label=f'Best: {best_val_loss}')\n",
    "    plt.title(\"Learning Curve Loss\" + f\" {epoch}\")\n",
    "    plt.legend(loc=\"upper right\")\n",
    "\n",
    "    plt.tight_layout()\n",
    "    plt.xlabel(\"Epoch\")\n",
    "    display.clear_output(wait=True)\n",
    "    display.display(plt.gcf())\n",
    "    if save_path: \n",
    "        plt.savefig(save_path)"
   ]
  },
  {
   "cell_type": "code",
   "execution_count": 16,
   "metadata": {},
   "outputs": [],
   "source": [
    "best_valid_loss = 1e9\n",
    "best_valid_loss_epoch = 0"
   ]
  },
  {
   "cell_type": "code",
   "execution_count": 17,
   "metadata": {},
   "outputs": [],
   "source": [
    "EPOCHS = 50\n",
    "BASE =0"
   ]
  },
  {
   "cell_type": "code",
   "execution_count": 18,
   "metadata": {},
   "outputs": [],
   "source": [
    "def train(best_valid_loss, best_valid_loss_epoch): \n",
    "    for epoch in range(BASE, BASE + EPOCHS):\n",
    "        model.train()\n",
    "        train_loss = 0.\n",
    "        train_num = len(train_loader)    # train_loader\n",
    "        for idx, (x, y) in enumerate(train_loader):\n",
    "            optimizer.zero_grad()\n",
    "            x = x.to(device)\n",
    "            y = y.to(device)\n",
    "\n",
    "            x_hat= model(x)\n",
    "            loss = recon_loss(x_hat, y)\n",
    "            train_loss += loss.item()\n",
    "            \n",
    "            loss.backward()\n",
    "            \n",
    "            # torch.nn.utils.clip_grad_norm_(model.parameters(), clip_value)\n",
    "            # 这个函数计算的是全局梯度范数\n",
    "            # torch.nn.utils.clip_grad_norm(parameters=model.parameters(), max_norm=5, norm_type=2)\n",
    "            # torch.nn.utils.clip_grad_norm_(parameters=model.parameters(), max_norm=5, norm_type=2)\n",
    "            # parameters: an iterable of Variables that will have gradients normalized\n",
    "            # max_norm: max norm of the gradients(阈值设定)\n",
    "            # norm_type: type of the used p-norm. Can be'inf'for infinity norm(定义范数类型)\n",
    "\n",
    "            optimizer.step()\n",
    "            # scheduler.step()\n",
    "\n",
    "            draw_progress_bar(idx, train_num)\n",
    "\n",
    "        train_losses.append(train_loss / train_num)\n",
    "\n",
    "        last_model_name = f\"{epoch}.pt\"\n",
    "        torch.save(model.state_dict(), os.path.join(model_save_dir, last_model_name))\n",
    "\n",
    "        model.eval()\n",
    "        valid_loss = 0.\n",
    "        valid_num = len(valid_loader)\n",
    "        for idx, (x, y) in enumerate(valid_loader):\n",
    "            x = x.to(device)\n",
    "            y = y.to(device)\n",
    "\n",
    "            x_hat = model(x)\n",
    "            loss = recon_loss(x_hat, y)\n",
    "            \n",
    "            valid_loss += loss.item()\n",
    "\n",
    "            # draw_progress_bar(idx, valid_num)\n",
    "\n",
    "        avg_valid_loss = valid_loss / valid_num\n",
    "        valid_losses.append(avg_valid_loss)\n",
    "        if avg_valid_loss < best_valid_loss: \n",
    "            best_valid_loss = avg_valid_loss\n",
    "            best_valid_loss_epoch = epoch\n",
    "\n",
    "        draw_learning_curve(losses=(train_losses.get(), valid_losses.get()),\n",
    "                            others=best_valid_loss_epoch, \n",
    "                            epoch=str(epoch))\n",
    "        train_losses.save()\n",
    "        valid_losses.save()\n",
    "\n",
    "    return best_valid_loss, best_valid_loss_epoch"
   ]
  },
  {
   "cell_type": "code",
   "execution_count": 19,
   "metadata": {},
   "outputs": [
    {
     "data": {
      "image/png": "[encoded data removed]",
      "text/plain": [
       "<Figure size 640x480 with 1 Axes>"
      ]
     },
     "metadata": {},
     "output_type": "display_data"
    },
    {
     "data": {
      "image/png": "[encoded data removed]",
      "text/plain": [
       "<Figure size 640x480 with 1 Axes>"
      ]
     },
     "metadata": {},
     "output_type": "display_data"
    }
   ],
   "source": [
    "if __name__ == \"__main__\": \n",
    "    best_valid_loss, best_valid_loss_epoch = train(best_valid_loss, best_valid_loss_epoch)\n",
    "    draw_learning_curve(losses=(train_losses.get(), valid_losses.get()), \n",
    "                        others=best_valid_loss_epoch, \n",
    "                        epoch=str(BASE + EPOCHS), \n",
    "                        save_path=os.path.join(model_save_dir, \"vis.png\"))"
   ]
  },
  {
   "cell_type": "markdown",
   "metadata": {},
   "source": [
    "## Compare prediction"
   ]
  },
  {
   "cell_type": "code",
   "execution_count": 20,
   "metadata": {},
   "outputs": [],
   "source": [
    "def checkone(): \n",
    "    model.eval()\n",
    "    valid_loss = 0.\n",
    "    valid_num = len(valid_loader.dataset)\n",
    "    for idx, (x, y) in enumerate(valid_loader):\n",
    "        x = x.to(device)\n",
    "        y = y.to(device)\n",
    "\n",
    "        x_hat = model(x)\n",
    "        return y, x_hat"
   ]
  },
  {
   "cell_type": "code",
   "execution_count": 21,
   "metadata": {},
   "outputs": [],
   "source": [
    "target, pred = checkone()"
   ]
  },
  {
   "cell_type": "code",
   "execution_count": 22,
   "metadata": {},
   "outputs": [
    {
     "data": {
      "image/png": "[encoded data removed]",
      "text/plain": [
       "<Figure size 1800x1200 with 6 Axes>"
      ]
     },
     "metadata": {},
     "output_type": "display_data"
    }
   ],
   "source": [
    "# Set the random seed for reproducibility\n",
    "# random.seed(101)\n",
    "# Generate six random indices\n",
    "random_indices = random.sample(range(len(target)), 3)\n",
    "\n",
    "# Create subplots with 3 rows and 2 columns\n",
    "fig, axes = plt.subplots(3, 2, figsize=(18, 12))\n",
    "\n",
    "# Flatten the axes array\n",
    "axes = axes.flatten()\n",
    "\n",
    "# Iterate over the random indices\n",
    "for i, idx in enumerate(random_indices):\n",
    "    targetspec = target[idx]\n",
    "    predspec = pred[idx]\n",
    "    \n",
    "    # Plot the target spectrogram\n",
    "    ax = axes[i*2]\n",
    "    ax.imshow(targetspec.detach().cpu().numpy().T, aspect='auto', origin=\"lower\")\n",
    "    ax.set_title(f'Target Spectrogram {idx}')\n",
    "    ax.set_xlabel('Time')\n",
    "    ax.set_ylabel('Frequency')\n",
    "    \n",
    "    # Plot the predicted spectrogram\n",
    "    ax = axes[i*2+1]\n",
    "    ax.imshow(predspec.detach().cpu().numpy().T, aspect='auto', origin=\"lower\")\n",
    "    ax.set_title(f'Predicted Spectrogram {idx}')\n",
    "    ax.set_xlabel('Time')\n",
    "    ax.set_ylabel('Frequency')\n",
    "\n",
    "# Adjust the spacing between subplots\n",
    "plt.tight_layout()\n",
    "\n",
    "# Show the plots\n",
    "plt.show()\n"
   ]
  },
  {
   "cell_type": "markdown",
   "metadata": {},
   "source": [
    "## Clustering Evaluation"
   ]
  },
  {
   "cell_type": "markdown",
   "metadata": {},
   "source": [
    "### Set a csv record"
   ]
  },
  {
   "cell_type": "code",
   "execution_count": 76,
   "metadata": {},
   "outputs": [],
   "source": [
    "HCV_rec = pd.DataFrame(columns=[\"type\", \"homogeneity\", \"completeness\", \"v_measure\"])"
   ]
  },
  {
   "cell_type": "markdown",
   "metadata": {},
   "source": [
    "### Our result (Heimsprache)"
   ]
  },
  {
   "cell_type": "code",
   "execution_count": 70,
   "metadata": {},
   "outputs": [],
   "source": [
    "gsds = GroundedSoundDataset(os.path.join(as_use_path, \"phone_anno_validation.mfcc\"), os.path.join(as_use_path, \"phone_anno_validation.csv\"))\n",
    "eval_loader = DataLoader(gsds, batch_size=BATCH_SIZE, shuffle=False, num_workers=LOADER_WORKER)"
   ]
  },
  {
   "cell_type": "code",
   "execution_count": 71,
   "metadata": {},
   "outputs": [
    {
     "data": {
      "text/plain": [
       "ResAE(\n",
       "  (encoder): Sequential(\n",
       "    (0): LinPack(\n",
       "      (lin): Linear(in_features=975, out_features=256, bias=True)\n",
       "      (relu): ReLU()\n",
       "      (batch_norm): LayerNorm((256,), eps=1e-05, elementwise_affine=True)\n",
       "      (dropout): Dropout(p=0.5, inplace=False)\n",
       "    )\n",
       "    (1): ResBlock(\n",
       "      (lin1): Linear(in_features=256, out_features=256, bias=True)\n",
       "      (lin2): Linear(in_features=256, out_features=256, bias=True)\n",
       "      (batch_norm): LayerNorm((256,), eps=1e-05, elementwise_affine=True)\n",
       "      (relu): ReLU()\n",
       "    )\n",
       "    (2): Linear(in_features=256, out_features=8, bias=True)\n",
       "    (3): Sigmoid()\n",
       "  )\n",
       "  (decoder): Sequential(\n",
       "    (0): LinPack(\n",
       "      (lin): Linear(in_features=8, out_features=256, bias=True)\n",
       "      (relu): ReLU()\n",
       "      (batch_norm): LayerNorm((256,), eps=1e-05, elementwise_affine=True)\n",
       "      (dropout): Dropout(p=0.5, inplace=False)\n",
       "    )\n",
       "    (1): ResBlock(\n",
       "      (lin1): Linear(in_features=256, out_features=256, bias=True)\n",
       "      (lin2): Linear(in_features=256, out_features=256, bias=True)\n",
       "      (batch_norm): LayerNorm((256,), eps=1e-05, elementwise_affine=True)\n",
       "      (relu): ReLU()\n",
       "    )\n",
       "    (2): Linear(in_features=256, out_features=325, bias=True)\n",
       "  )\n",
       ")"
      ]
     },
     "execution_count": 71,
     "metadata": {},
     "output_type": "execute_result"
    }
   ],
   "source": [
    "stop_epoch = best_valid_loss_epoch\n",
    "model_raw_name = f\"{stop_epoch}\"\n",
    "model_name = model_raw_name + \".pt\"\n",
    "model_path = os.path.join(model_save_dir, model_name)\n",
    "state = torch.load(model_path)\n",
    "\n",
    "model.load_state_dict(state)\n",
    "model.to(device)"
   ]
  },
  {
   "cell_type": "code",
   "execution_count": 72,
   "metadata": {},
   "outputs": [
    {
     "name": "stderr",
     "output_type": "stream",
     "text": [
      "/home/ldlmdl/anaconda3/envs/featln/lib/python3.11/site-packages/sklearn/cluster/_kmeans.py:1416: FutureWarning: The default value of `n_init` will change from 10 to 'auto' in 1.4. Set the value of `n_init` explicitly to suppress the warning\n",
      "  super()._check_params_vs_input(X, default_n_init=10)\n"
     ]
    }
   ],
   "source": [
    "device = torch.device('cuda' if torch.cuda.is_available() else 'cpu')\n",
    "model.to(device)\n",
    "hiddens = None\n",
    "tags = None\n",
    "model.eval()\n",
    "with torch.no_grad():\n",
    "    for idx, (s, e, t) in enumerate(eval_loader):\n",
    "        s = s.to(device)\n",
    "        hidden = model.encode(s)\n",
    "        hidden = hidden.cpu().data.numpy()\n",
    "\n",
    "        if hiddens is not None: \n",
    "            hiddens = np.concatenate((hiddens, hidden), axis=0)\n",
    "            tags = np.concatenate((tags, t), axis=0)\n",
    "        else: \n",
    "            hiddens = hidden\n",
    "            tags = t\n",
    "num_phones = np.unique(tags).shape[0]\n",
    "kmeansmodel = KMeans(n_clusters=256) # , random_state=0\n",
    "clusters = kmeansmodel.fit_predict(hiddens)\n",
    "np.save(os.path.join(model_save_dir, \"heim_cluster.npy\"), clusters)\n",
    "np.save(os.path.join(model_save_dir, \"heim_hiddens.npy\"), hiddens)\n",
    "np.save(os.path.join(model_save_dir, \"heim_tags.npy\"), hiddens)"
   ]
  },
  {
   "cell_type": "code",
   "execution_count": 77,
   "metadata": {},
   "outputs": [],
   "source": [
    "h, c, v = homogeneity_completeness_v_measure(tags, clusters)"
   ]
  },
  {
   "cell_type": "code",
   "execution_count": 78,
   "metadata": {},
   "outputs": [
    {
     "data": {
      "text/plain": [
       "(0.4444993005086059, 0.3205389013790592, 0.372476347186934)"
      ]
     },
     "execution_count": 78,
     "metadata": {},
     "output_type": "execute_result"
    }
   ],
   "source": [
    "h, c, v"
   ]
  },
  {
   "cell_type": "code",
   "execution_count": 79,
   "metadata": {},
   "outputs": [
    {
     "name": "stderr",
     "output_type": "stream",
     "text": [
      "/tmp/ipykernel_205623/3375830325.py:1: FutureWarning: The behavior of DataFrame concatenation with empty or all-NA entries is deprecated. In a future version, this will no longer exclude empty or all-NA columns when determining the result dtypes. To retain the old behavior, exclude the relevant entries before the concat operation.\n",
      "  HCV_rec = pd.concat((HCV_rec, pd.DataFrame({\"type\": [\"heim\"], \"homogeneity\": [h], \"completeness\": [c], \"v_measure\": [v]})), ignore_index=True)\n"
     ]
    }
   ],
   "source": [
    "HCV_rec = pd.concat((HCV_rec, pd.DataFrame({\"type\": [\"heim\"], \"homogeneity\": [h], \"completeness\": [c], \"v_measure\": [v]})), ignore_index=True)"
   ]
  },
  {
   "cell_type": "markdown",
   "metadata": {},
   "source": [
    "### Baseline"
   ]
  },
  {
   "cell_type": "code",
   "execution_count": 83,
   "metadata": {},
   "outputs": [
    {
     "name": "stdout",
     "output_type": "stream",
     "text": [
      "0.047238508924391215 0.03266555478736746 0.038623119517666525\n"
     ]
    }
   ],
   "source": [
    "clusters_base = np.random.randint(0, 256, size=hiddens.shape[0])\n",
    "hb, cb, vb = homogeneity_completeness_v_measure(tags, clusters_base)\n",
    "print(hb, cb, vb)"
   ]
  },
  {
   "cell_type": "code",
   "execution_count": 84,
   "metadata": {},
   "outputs": [
    {
     "data": {
      "text/plain": [
       "9.643870092278805"
      ]
     },
     "execution_count": 84,
     "metadata": {},
     "output_type": "execute_result"
    }
   ],
   "source": [
    "v/vb"
   ]
  },
  {
   "cell_type": "code",
   "execution_count": 85,
   "metadata": {},
   "outputs": [],
   "source": [
    "HCV_rec = pd.concat((HCV_rec, pd.DataFrame({\"type\": [\"base\"], \"homogeneity\": [hb], \"completeness\": [cb], \"v_measure\": [vb]})), ignore_index=True)"
   ]
  },
  {
   "cell_type": "code",
   "execution_count": null,
   "metadata": {},
   "outputs": [],
   "source": [
    "# (0.1767405331125321, 0.300229269600411, 0.22249912201296201)\n",
    "# (0.317775819160334, 0.23803955507549407, 0.2721882773058442)\n",
    "# (0.22059468942414573, 0.15012069012334261, 0.17865904055191792)\n",
    "# (0.33517317818409614, 0.2217166931537156, 0.26688755721944174)\n",
    "\n",
    "# (0.3641088741524852, 0.24123384101870463, 0.2902005097590394)"
   ]
  },
  {
   "cell_type": "markdown",
   "metadata": {},
   "source": [
    "### Use English data (Fremdsprache)"
   ]
  },
  {
   "cell_type": "code",
   "execution_count": 89,
   "metadata": {},
   "outputs": [],
   "source": [
    "fremd_anno_test_data_ = os.path.join(sbsc_use_path, \"phone_anno_test.mfcc\")\n",
    "fremd_anno_test_guide_ = os.path.join(sbsc_use_path, \"phone_anno_test.csv\")"
   ]
  },
  {
   "cell_type": "code",
   "execution_count": 90,
   "metadata": {},
   "outputs": [],
   "source": [
    "gsds = GroundedSoundDataset(fremd_anno_test_data_, fremd_anno_test_guide_)\n",
    "eval_loader = DataLoader(gsds, batch_size=BATCH_SIZE, shuffle=False, num_workers=LOADER_WORKER)"
   ]
  },
  {
   "cell_type": "code",
   "execution_count": 91,
   "metadata": {},
   "outputs": [
    {
     "data": {
      "text/plain": [
       "47"
      ]
     },
     "execution_count": 91,
     "metadata": {},
     "output_type": "execute_result"
    }
   ],
   "source": [
    "best_valid_loss_epoch"
   ]
  },
  {
   "cell_type": "code",
   "execution_count": 92,
   "metadata": {},
   "outputs": [
    {
     "data": {
      "text/plain": [
       "ResAE(\n",
       "  (encoder): Sequential(\n",
       "    (0): LinPack(\n",
       "      (lin): Linear(in_features=975, out_features=256, bias=True)\n",
       "      (relu): ReLU()\n",
       "      (batch_norm): LayerNorm((256,), eps=1e-05, elementwise_affine=True)\n",
       "      (dropout): Dropout(p=0.5, inplace=False)\n",
       "    )\n",
       "    (1): ResBlock(\n",
       "      (lin1): Linear(in_features=256, out_features=256, bias=True)\n",
       "      (lin2): Linear(in_features=256, out_features=256, bias=True)\n",
       "      (batch_norm): LayerNorm((256,), eps=1e-05, elementwise_affine=True)\n",
       "      (relu): ReLU()\n",
       "    )\n",
       "    (2): Linear(in_features=256, out_features=8, bias=True)\n",
       "    (3): Sigmoid()\n",
       "  )\n",
       "  (decoder): Sequential(\n",
       "    (0): LinPack(\n",
       "      (lin): Linear(in_features=8, out_features=256, bias=True)\n",
       "      (relu): ReLU()\n",
       "      (batch_norm): LayerNorm((256,), eps=1e-05, elementwise_affine=True)\n",
       "      (dropout): Dropout(p=0.5, inplace=False)\n",
       "    )\n",
       "    (1): ResBlock(\n",
       "      (lin1): Linear(in_features=256, out_features=256, bias=True)\n",
       "      (lin2): Linear(in_features=256, out_features=256, bias=True)\n",
       "      (batch_norm): LayerNorm((256,), eps=1e-05, elementwise_affine=True)\n",
       "      (relu): ReLU()\n",
       "    )\n",
       "    (2): Linear(in_features=256, out_features=325, bias=True)\n",
       "  )\n",
       ")"
      ]
     },
     "execution_count": 92,
     "metadata": {},
     "output_type": "execute_result"
    }
   ],
   "source": [
    "stop_epoch = best_valid_loss_epoch\n",
    "model_raw_name = f\"{stop_epoch}\"\n",
    "model_name = model_raw_name + \".pt\"\n",
    "model_path = os.path.join(model_save_dir, model_name)\n",
    "state = torch.load(model_path)\n",
    "\n",
    "model.load_state_dict(state)\n",
    "model.to(device)"
   ]
  },
  {
   "cell_type": "code",
   "execution_count": 93,
   "metadata": {},
   "outputs": [
    {
     "name": "stderr",
     "output_type": "stream",
     "text": [
      "/home/ldlmdl/anaconda3/envs/featln/lib/python3.11/site-packages/sklearn/cluster/_kmeans.py:1416: FutureWarning: The default value of `n_init` will change from 10 to 'auto' in 1.4. Set the value of `n_init` explicitly to suppress the warning\n",
      "  super()._check_params_vs_input(X, default_n_init=10)\n"
     ]
    }
   ],
   "source": [
    "device = torch.device('cuda' if torch.cuda.is_available() else 'cpu')\n",
    "model.to(device)\n",
    "hiddens = None\n",
    "tags = None\n",
    "model.eval()\n",
    "with torch.no_grad():\n",
    "    for idx, (s, e, t) in enumerate(eval_loader):\n",
    "        s = s.to(device)\n",
    "        hidden = model.encode(s)\n",
    "        hidden = hidden.cpu().data.numpy()\n",
    "\n",
    "        if hiddens is not None: \n",
    "            hiddens = np.concatenate((hiddens, hidden), axis=0)\n",
    "            tags = np.concatenate((tags, t), axis=0)\n",
    "        else: \n",
    "            hiddens = hidden\n",
    "            tags = t\n",
    "num_phones = np.unique(tags).shape[0]\n",
    "kmeansmodel = KMeans(n_clusters=256) # , random_state=0\n",
    "clusters = kmeansmodel.fit_predict(hiddens)\n",
    "np.save(os.path.join(model_save_dir, \"fremd_cluster.npy\"), clusters)\n",
    "np.save(os.path.join(model_save_dir, \"fremd_hiddens.npy\"), hiddens)\n",
    "np.save(os.path.join(model_save_dir, \"fremd_tags.npy\"), hiddens)"
   ]
  },
  {
   "cell_type": "code",
   "execution_count": 94,
   "metadata": {},
   "outputs": [],
   "source": [
    "hf, cf, vf = homogeneity_completeness_v_measure(tags, clusters)"
   ]
  },
  {
   "cell_type": "code",
   "execution_count": 95,
   "metadata": {},
   "outputs": [
    {
     "data": {
      "text/plain": [
       "(0.38095789520730833, 0.25375731121048367, 0.30461173828748506)"
      ]
     },
     "execution_count": 95,
     "metadata": {},
     "output_type": "execute_result"
    }
   ],
   "source": [
    "hf, cf, vf"
   ]
  },
  {
   "cell_type": "code",
   "execution_count": 96,
   "metadata": {},
   "outputs": [],
   "source": [
    "HCV_rec = pd.concat((HCV_rec, pd.DataFrame({\"type\": [\"fremd\"], \"homogeneity\": [hf], \"completeness\": [cf], \"v_measure\": [vf]})), ignore_index=True)"
   ]
  },
  {
   "cell_type": "markdown",
   "metadata": {},
   "source": [
    "### Acoustic Baseline (Heimsprache)"
   ]
  },
  {
   "cell_type": "code",
   "execution_count": 98,
   "metadata": {},
   "outputs": [],
   "source": [
    "gsds = GroundedSoundDataset(os.path.join(as_use_path, \"phone_anno_validation.mfcc\"), os.path.join(as_use_path, \"phone_anno_validation.csv\"))\n",
    "eval_loader = DataLoader(gsds, batch_size=BATCH_SIZE, shuffle=False, num_workers=LOADER_WORKER)"
   ]
  },
  {
   "cell_type": "code",
   "execution_count": 99,
   "metadata": {},
   "outputs": [
    {
     "name": "stderr",
     "output_type": "stream",
     "text": [
      "/home/ldlmdl/anaconda3/envs/featln/lib/python3.11/site-packages/sklearn/cluster/_kmeans.py:1416: FutureWarning: The default value of `n_init` will change from 10 to 'auto' in 1.4. Set the value of `n_init` explicitly to suppress the warning\n",
      "  super()._check_params_vs_input(X, default_n_init=10)\n"
     ]
    }
   ],
   "source": [
    "hiddens = None\n",
    "tags = None\n",
    "for idx, (s, e, t) in enumerate(eval_loader):\n",
    "    # s = s.to(device)\n",
    "    # hidden = model.encode(s)\n",
    "    hidden = s.view(s.size(0), -1)\n",
    "    hidden = hidden.data.numpy()\n",
    "\n",
    "    if hiddens is not None: \n",
    "        hiddens = np.concatenate((hiddens, hidden), axis=0)\n",
    "        tags = np.concatenate((tags, t), axis=0)\n",
    "    else: \n",
    "        hiddens = hidden\n",
    "        tags = t\n",
    "num_phones = np.unique(tags).shape[0]\n",
    "kmeansmodel = KMeans(n_clusters=256) # , random_state=0\n",
    "clusters = kmeansmodel.fit_predict(hiddens)\n",
    "np.save(os.path.join(model_save_dir, \"acoustic_cluster.npy\"), clusters)\n",
    "np.save(os.path.join(model_save_dir, \"acoustic_hiddens.npy\"), hiddens)\n",
    "np.save(os.path.join(model_save_dir, \"acoustic_tags.npy\"), hiddens)"
   ]
  },
  {
   "cell_type": "markdown",
   "metadata": {},
   "source": []
  },
  {
   "cell_type": "code",
   "execution_count": 100,
   "metadata": {},
   "outputs": [],
   "source": [
    "ha, ca, va = homogeneity_completeness_v_measure(tags, clusters)"
   ]
  },
  {
   "cell_type": "code",
   "execution_count": 101,
   "metadata": {},
   "outputs": [
    {
     "data": {
      "text/plain": [
       "(0.5428914983435418, 0.3787539472388703, 0.44620694195500066)"
      ]
     },
     "execution_count": 101,
     "metadata": {},
     "output_type": "execute_result"
    }
   ],
   "source": [
    "ha, ca, va"
   ]
  },
  {
   "cell_type": "code",
   "execution_count": 102,
   "metadata": {},
   "outputs": [],
   "source": [
    "HCV_rec = pd.concat((HCV_rec, pd.DataFrame({\"type\": [\"acoustic\"], \"homogeneity\": [ha], \"completeness\": [ca], \"v_measure\": [va]})), ignore_index=True)"
   ]
  },
  {
   "cell_type": "markdown",
   "metadata": {},
   "source": [
    "## Save! "
   ]
  },
  {
   "cell_type": "code",
   "execution_count": 103,
   "metadata": {},
   "outputs": [],
   "source": [
    "HCV_rec.to_csv(os.path.join(model_save_dir, \"HCV_rec.csv\"), index=False)"
   ]
  }
 ],
 "metadata": {
  "kernelspec": {
   "display_name": "featln",
   "language": "python",
   "name": "python3"
  },
  "language_info": {
   "codemirror_mode": {
    "name": "ipython",
    "version": 3
   },
   "file_extension": ".py",
   "mimetype": "text/x-python",
   "name": "python",
   "nbconvert_exporter": "python",
   "pygments_lexer": "ipython3",
   "version": "3.11.5"
  }
 },
 "nbformat": 4,
 "nbformat_minor": 2
}
